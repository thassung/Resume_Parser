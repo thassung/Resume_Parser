{
 "cells": [
  {
   "cell_type": "code",
   "execution_count": 1,
   "metadata": {},
   "outputs": [],
   "source": [
    "import json"
   ]
  },
  {
   "cell_type": "code",
   "execution_count": 2,
   "metadata": {},
   "outputs": [],
   "source": [
    "def convert_to_jsonl(input_file, output_file, prefix):\n",
    "    with open(input_file, 'r') as f:\n",
    "        degrees = json.load(f)\n",
    "\n",
    "    with open(output_file, 'w') as f:\n",
    "        for degree in degrees:\n",
    "            label = f\"{prefix}{degree['degree_level']}\"\n",
    "            pattern = [{\"LOWER\": word.lower()} for word in degree['degree_title'].split()]\n",
    "            transformed_entry = {\"label\": label, \"pattern\": pattern}\n",
    "            f.write(json.dumps(transformed_entry) + '\\n')"
   ]
  },
  {
   "cell_type": "code",
   "execution_count": 3,
   "metadata": {},
   "outputs": [],
   "source": [
    "convert_to_jsonl('data/degrees.json', 'data/degrees.jsonl', 'DEGREE|')\n",
    "\n",
    "convert_to_jsonl('data/certs.json', 'data/certs.jsonl', 'CERT|')"
   ]
  },
  {
   "cell_type": "code",
   "execution_count": null,
   "metadata": {},
   "outputs": [],
   "source": []
  }
 ],
 "metadata": {
  "kernelspec": {
   "display_name": "Python 3",
   "language": "python",
   "name": "python3"
  },
  "language_info": {
   "codemirror_mode": {
    "name": "ipython",
    "version": 3
   },
   "file_extension": ".py",
   "mimetype": "text/x-python",
   "name": "python",
   "nbconvert_exporter": "python",
   "pygments_lexer": "ipython3",
   "version": "3.11.5"
  }
 },
 "nbformat": 4,
 "nbformat_minor": 2
}
