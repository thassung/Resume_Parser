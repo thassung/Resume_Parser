{
 "cells": [
  {
   "attachments": {},
   "cell_type": "markdown",
   "metadata": {},
   "source": [
    "# Resume Parsing"
   ]
  },
  {
   "cell_type": "markdown",
   "metadata": {},
   "source": [
    "## 1. Load data"
   ]
  },
  {
   "cell_type": "code",
   "execution_count": 1,
   "metadata": {},
   "outputs": [],
   "source": [
    "import pandas as pd\n",
    "import numpy as np\n",
    "import pickle\n",
    "\n",
    "df_resume = pd.read_csv(\"./data/resume.csv\")"
   ]
  },
  {
   "cell_type": "code",
   "execution_count": 2,
   "metadata": {},
   "outputs": [
    {
     "data": {
      "text/plain": [
       "array(['HR', 'DESIGNER', 'INFORMATION-TECHNOLOGY', 'TEACHER', 'ADVOCATE',\n",
       "       'BUSINESS-DEVELOPMENT', 'HEALTHCARE', 'FITNESS', 'AGRICULTURE',\n",
       "       'BPO', 'SALES', 'CONSULTANT', 'DIGITAL-MEDIA', 'AUTOMOBILE',\n",
       "       'CHEF', 'FINANCE', 'APPAREL', 'ENGINEERING', 'ACCOUNTANT',\n",
       "       'CONSTRUCTION', 'PUBLIC-RELATIONS', 'BANKING', 'ARTS', 'AVIATION'],\n",
       "      dtype=object)"
      ]
     },
     "execution_count": 2,
     "metadata": {},
     "output_type": "execute_result"
    }
   ],
   "source": [
    "df_resume.Category.unique()"
   ]
  },
  {
   "cell_type": "code",
   "execution_count": 3,
   "metadata": {},
   "outputs": [
    {
     "data": {
      "text/plain": [
       "(2484, 4)"
      ]
     },
     "execution_count": 3,
     "metadata": {},
     "output_type": "execute_result"
    }
   ],
   "source": [
    "df_resume.shape"
   ]
  },
  {
   "cell_type": "code",
   "execution_count": 4,
   "metadata": {},
   "outputs": [
    {
     "data": {
      "text/plain": [
       "(1000, 4)"
      ]
     },
     "execution_count": 4,
     "metadata": {},
     "output_type": "execute_result"
    }
   ],
   "source": [
    "df_resume = df_resume.reindex(np.random.permutation(df_resume.index))\n",
    "df_resume = df_resume.copy().iloc[:1000, ]\n",
    "df_resume.shape"
   ]
  },
  {
   "attachments": {},
   "cell_type": "markdown",
   "metadata": {},
   "source": [
    "## 2. Load skill data\n",
    "\n",
    "If we define patterns for all the skill, we gonna be too tired.\n",
    "\n",
    "So spacy knows that, so it allows you to give you a list of words, then it will automatically create pattern."
   ]
  },
  {
   "cell_type": "code",
   "execution_count": 5,
   "metadata": {},
   "outputs": [],
   "source": [
    "import spacy\n",
    "\n",
    "nlp = spacy.load('en_core_web_md')\n",
    "skill_path = './data/skills.jsonl'"
   ]
  },
  {
   "cell_type": "code",
   "execution_count": 6,
   "metadata": {},
   "outputs": [
    {
     "data": {
      "text/plain": [
       "['tok2vec',\n",
       " 'tagger',\n",
       " 'parser',\n",
       " 'attribute_ruler',\n",
       " 'lemmatizer',\n",
       " 'ner',\n",
       " 'entity_ruler']"
      ]
     },
     "execution_count": 6,
     "metadata": {},
     "output_type": "execute_result"
    }
   ],
   "source": [
    "ruler = nlp.add_pipe(\"entity_ruler\")\n",
    "ruler.from_disk(skill_path)\n",
    "nlp.pipe_names"
   ]
  },
  {
   "cell_type": "code",
   "execution_count": 7,
   "metadata": {},
   "outputs": [
    {
     "data": {
      "text/plain": [
       "(Chaky, deep learning)"
      ]
     },
     "execution_count": 7,
     "metadata": {},
     "output_type": "execute_result"
    }
   ],
   "source": [
    "doc = nlp(\"Chaky loves deep learning.\")\n",
    "doc.ents"
   ]
  },
  {
   "cell_type": "markdown",
   "metadata": {},
   "source": [
    "## 3. Let's try to extract skills from this resume.csv"
   ]
  },
  {
   "cell_type": "code",
   "execution_count": 8,
   "metadata": {},
   "outputs": [
    {
     "data": {
      "text/html": [
       "<div>\n",
       "<style scoped>\n",
       "    .dataframe tbody tr th:only-of-type {\n",
       "        vertical-align: middle;\n",
       "    }\n",
       "\n",
       "    .dataframe tbody tr th {\n",
       "        vertical-align: top;\n",
       "    }\n",
       "\n",
       "    .dataframe thead th {\n",
       "        text-align: right;\n",
       "    }\n",
       "</style>\n",
       "<table border=\"1\" class=\"dataframe\">\n",
       "  <thead>\n",
       "    <tr style=\"text-align: right;\">\n",
       "      <th></th>\n",
       "      <th>ID</th>\n",
       "      <th>Resume_str</th>\n",
       "      <th>Resume_html</th>\n",
       "      <th>Category</th>\n",
       "    </tr>\n",
       "  </thead>\n",
       "  <tbody>\n",
       "    <tr>\n",
       "      <th>1653</th>\n",
       "      <td>22249155</td>\n",
       "      <td>EMBROIDERY MACHINE OPERATOR       Sum...</td>\n",
       "      <td>&lt;div class=\"fontsize fontface vmargins hmargin...</td>\n",
       "      <td>APPAREL</td>\n",
       "    </tr>\n",
       "    <tr>\n",
       "      <th>1264</th>\n",
       "      <td>62700506</td>\n",
       "      <td>DIGITAL CONSULTANT         Summary   ...</td>\n",
       "      <td>&lt;div class=\"fontsize fontface vmargins hmargin...</td>\n",
       "      <td>DIGITAL-MEDIA</td>\n",
       "    </tr>\n",
       "    <tr>\n",
       "      <th>2024</th>\n",
       "      <td>29061628</td>\n",
       "      <td>CUSTOMER SERVICE REPRESENTATIVE      ...</td>\n",
       "      <td>&lt;div class=\"fontsize fontface vmargins hmargin...</td>\n",
       "      <td>CONSTRUCTION</td>\n",
       "    </tr>\n",
       "    <tr>\n",
       "      <th>823</th>\n",
       "      <td>35302620</td>\n",
       "      <td>BRANCH MANAGER         Summary    Mor...</td>\n",
       "      <td>&lt;div class=\"fontsize fontface vmargins hmargin...</td>\n",
       "      <td>FITNESS</td>\n",
       "    </tr>\n",
       "    <tr>\n",
       "      <th>732</th>\n",
       "      <td>75744306</td>\n",
       "      <td>CUSTOMER SERVICE REPRESENTATIVE      ...</td>\n",
       "      <td>&lt;div class=\"fontsize fontface vmargins hmargin...</td>\n",
       "      <td>HEALTHCARE</td>\n",
       "    </tr>\n",
       "  </tbody>\n",
       "</table>\n",
       "</div>"
      ],
      "text/plain": [
       "            ID                                         Resume_str  \\\n",
       "1653  22249155           EMBROIDERY MACHINE OPERATOR       Sum...   \n",
       "1264  62700506           DIGITAL CONSULTANT         Summary   ...   \n",
       "2024  29061628           CUSTOMER SERVICE REPRESENTATIVE      ...   \n",
       "823   35302620           BRANCH MANAGER         Summary    Mor...   \n",
       "732   75744306           CUSTOMER SERVICE REPRESENTATIVE      ...   \n",
       "\n",
       "                                            Resume_html       Category  \n",
       "1653  <div class=\"fontsize fontface vmargins hmargin...        APPAREL  \n",
       "1264  <div class=\"fontsize fontface vmargins hmargin...  DIGITAL-MEDIA  \n",
       "2024  <div class=\"fontsize fontface vmargins hmargin...   CONSTRUCTION  \n",
       "823   <div class=\"fontsize fontface vmargins hmargin...        FITNESS  \n",
       "732   <div class=\"fontsize fontface vmargins hmargin...     HEALTHCARE  "
      ]
     },
     "execution_count": 8,
     "metadata": {},
     "output_type": "execute_result"
    }
   ],
   "source": [
    "df_resume.head()"
   ]
  },
  {
   "cell_type": "code",
   "execution_count": 9,
   "metadata": {},
   "outputs": [],
   "source": [
    "#clean our data\n",
    "from spacy.lang.en.stop_words import STOP_WORDS\n",
    "\n",
    "def preprocessing(sentence):\n",
    "    stopwords    = list(STOP_WORDS)\n",
    "    doc          = nlp(sentence)\n",
    "    clean_tokens = []\n",
    "    \n",
    "    for token in doc:\n",
    "        if token.text not in stopwords and token.pos_ != 'PUNCT' and token.pos_ != 'SYM' and \\\n",
    "            token.pos_ != 'SPACE':\n",
    "                clean_tokens.append(token.lemma_.lower().strip())\n",
    "                \n",
    "    return \" \".join(clean_tokens)"
   ]
  },
  {
   "cell_type": "code",
   "execution_count": 10,
   "metadata": {},
   "outputs": [
    {
     "data": {
      "text/plain": [
       "'         CHEF         Summary     Focused Operations Manager successful in contract negotiation and process improvement. Remains calm and poised even in high-pressure situations. Leverages in-depth knowledge of industry trends and shifts to offer valuable insights on opportunities for new growth and'"
      ]
     },
     "execution_count": 10,
     "metadata": {},
     "output_type": "execute_result"
    }
   ],
   "source": [
    "random_resume = df_resume.Resume_str.iloc[5]\n",
    "random_resume[:300]"
   ]
  },
  {
   "cell_type": "code",
   "execution_count": 11,
   "metadata": {},
   "outputs": [
    {
     "data": {
      "text/plain": [
       "'chef summary focused operations manager successful contract negotiation process improvement remain calm poise high pressure situation leverage depth knowledge industry trend shift offer valuable insight opportunity new growth'"
      ]
     },
     "execution_count": 11,
     "metadata": {},
     "output_type": "execute_result"
    }
   ],
   "source": [
    "preprocessing(random_resume[:300])"
   ]
  },
  {
   "cell_type": "code",
   "execution_count": 12,
   "metadata": {},
   "outputs": [
    {
     "name": "stderr",
     "output_type": "stream",
     "text": [
      "C:\\Users\\sung2_8l7o06c\\AppData\\Local\\Temp\\ipykernel_16292\\1721952070.py:3: FutureWarning: Setting an item of incompatible dtype is deprecated and will raise in a future error of pandas. Value 'embroidery machine operator summary to find employment good reputable company chance advance good ability job skill skill customer service cashier pharmacy sales associate embroidery machine operator sewing machine operator telephone/ fax mahcines filing/ office skill skill customer service jc penney goodies medisav pharmacy wal - mart pharmacy the pharmacy pocola sale assiocate jc penney goodies medisav pharmacy wal - mart pharmacy the pharmacy pocola office skill telephone fax machine filing copier customer service advanced problem solve great people skill great organizational skill experience 01/2014 current embroidery machine operator company name － city state embroider shirt jacket hat item need meet incoming customer provide immediate assistance complete purchase cash credit debit payment method answer incoming telephone call professional knowledgeable repsonse provide expert product service information 2001 1 28 2014 i stay home mom 09/1999 02/2001 office administrator pharmacy technician training/ sales associate company name － city state complete purchase cash credit debit payment method office worker charge office duty include computer skill telephone skill faxing medical billing customer account billing filing insurance claim customer care pharmacy tech trainee- helped fill prescription meet incoming customer provide immediate assistance customer service listen customer need preference provide accurate advice increase purchase total recommend additional item organized item visually appealing manner answer incoming telephone call professional knowledgeable response create attractive display 03/1998 09/1999 pharmacy technician training/ sales associate company name － city state increased purchase total recommend additional item pharmacy tech trainee- help fill prescription customer service met incoming customer provide immediate assistance listen customer need preference provide accurate advice complete purchase cash credit debit payment method answer incoming telephone call professional knowledgeable response 02/1996 03/1998 sale associate company name － city state met incoming customer provide immediate assistance retrieve alternate item size request listen customer need preference provide accurate advice complete purchase cash credit debit payment method increased purchase total recommend additional item organized item visually appealing manner work flexible schedule accommodate change customer level answer incoming telephone call professional knowledgeable response ​ 03/1995 08/1995 sales associate company name － city state sale cash register meet incoming customer provide immediate assistance retrieve alternate item size request listen customer need preference provide accurate advice complete purchase cash credit debit payment method increase purchase total recommend additional item review purchase fraudulent activity work flexible schedule accommodate change customer level organized item visually appealing manner answer incoming telephone call professional knowledgeable response provide expert product service information 06/1994 03/1995 sewing machine operator company name － city state sewing machine operator make hunting gear dog collar nite lite 10/1992 06/1994 assembly line worker company name － city state assembly wood drawer book case roll desk wood product 04/1991 10/1992 sewing macine operator company name － city state work tack machine make camping stool cover plus work need fill place need 08/1995 02/1996 sales floor associate company name － city state met incoming customer provide immediate assistance retrieve alternate item size request listen customer need preference provide accurate advice increase purchase total recommend additional item work flexible schedule accommodate change customer level create attractive display provide expert product service information ​ education training 1988 high school diploma pocola high school － city state leflore' has dtype incompatible with float64, please explicitly cast to a compatible dtype first.\n",
      "  df_resume.at[i, 'Clean_resume'] = clean_text\n"
     ]
    }
   ],
   "source": [
    "for i, row in df_resume.iterrows():\n",
    "    clean_text = preprocessing(row.Resume_str)\n",
    "    df_resume.at[i, 'Clean_resume'] = clean_text"
   ]
  },
  {
   "cell_type": "code",
   "execution_count": 13,
   "metadata": {},
   "outputs": [
    {
     "data": {
      "text/html": [
       "<div>\n",
       "<style scoped>\n",
       "    .dataframe tbody tr th:only-of-type {\n",
       "        vertical-align: middle;\n",
       "    }\n",
       "\n",
       "    .dataframe tbody tr th {\n",
       "        vertical-align: top;\n",
       "    }\n",
       "\n",
       "    .dataframe thead th {\n",
       "        text-align: right;\n",
       "    }\n",
       "</style>\n",
       "<table border=\"1\" class=\"dataframe\">\n",
       "  <thead>\n",
       "    <tr style=\"text-align: right;\">\n",
       "      <th></th>\n",
       "      <th>ID</th>\n",
       "      <th>Resume_str</th>\n",
       "      <th>Resume_html</th>\n",
       "      <th>Category</th>\n",
       "      <th>Clean_resume</th>\n",
       "    </tr>\n",
       "  </thead>\n",
       "  <tbody>\n",
       "    <tr>\n",
       "      <th>1653</th>\n",
       "      <td>22249155</td>\n",
       "      <td>EMBROIDERY MACHINE OPERATOR       Sum...</td>\n",
       "      <td>&lt;div class=\"fontsize fontface vmargins hmargin...</td>\n",
       "      <td>APPAREL</td>\n",
       "      <td>embroidery machine operator summary to find em...</td>\n",
       "    </tr>\n",
       "    <tr>\n",
       "      <th>1264</th>\n",
       "      <td>62700506</td>\n",
       "      <td>DIGITAL CONSULTANT         Summary   ...</td>\n",
       "      <td>&lt;div class=\"fontsize fontface vmargins hmargin...</td>\n",
       "      <td>DIGITAL-MEDIA</td>\n",
       "      <td>digital consultant summary i seek position con...</td>\n",
       "    </tr>\n",
       "    <tr>\n",
       "      <th>2024</th>\n",
       "      <td>29061628</td>\n",
       "      <td>CUSTOMER SERVICE REPRESENTATIVE      ...</td>\n",
       "      <td>&lt;div class=\"fontsize fontface vmargins hmargin...</td>\n",
       "      <td>CONSTRUCTION</td>\n",
       "      <td>customer service representative present accomp...</td>\n",
       "    </tr>\n",
       "    <tr>\n",
       "      <th>823</th>\n",
       "      <td>35302620</td>\n",
       "      <td>BRANCH MANAGER         Summary    Mor...</td>\n",
       "      <td>&lt;div class=\"fontsize fontface vmargins hmargin...</td>\n",
       "      <td>FITNESS</td>\n",
       "      <td>branch manager summary more 5 year successful ...</td>\n",
       "    </tr>\n",
       "    <tr>\n",
       "      <th>732</th>\n",
       "      <td>75744306</td>\n",
       "      <td>CUSTOMER SERVICE REPRESENTATIVE      ...</td>\n",
       "      <td>&lt;div class=\"fontsize fontface vmargins hmargin...</td>\n",
       "      <td>HEALTHCARE</td>\n",
       "      <td>customer service representative summary my fav...</td>\n",
       "    </tr>\n",
       "  </tbody>\n",
       "</table>\n",
       "</div>"
      ],
      "text/plain": [
       "            ID                                         Resume_str  \\\n",
       "1653  22249155           EMBROIDERY MACHINE OPERATOR       Sum...   \n",
       "1264  62700506           DIGITAL CONSULTANT         Summary   ...   \n",
       "2024  29061628           CUSTOMER SERVICE REPRESENTATIVE      ...   \n",
       "823   35302620           BRANCH MANAGER         Summary    Mor...   \n",
       "732   75744306           CUSTOMER SERVICE REPRESENTATIVE      ...   \n",
       "\n",
       "                                            Resume_html       Category  \\\n",
       "1653  <div class=\"fontsize fontface vmargins hmargin...        APPAREL   \n",
       "1264  <div class=\"fontsize fontface vmargins hmargin...  DIGITAL-MEDIA   \n",
       "2024  <div class=\"fontsize fontface vmargins hmargin...   CONSTRUCTION   \n",
       "823   <div class=\"fontsize fontface vmargins hmargin...        FITNESS   \n",
       "732   <div class=\"fontsize fontface vmargins hmargin...     HEALTHCARE   \n",
       "\n",
       "                                           Clean_resume  \n",
       "1653  embroidery machine operator summary to find em...  \n",
       "1264  digital consultant summary i seek position con...  \n",
       "2024  customer service representative present accomp...  \n",
       "823   branch manager summary more 5 year successful ...  \n",
       "732   customer service representative summary my fav...  "
      ]
     },
     "execution_count": 13,
     "metadata": {},
     "output_type": "execute_result"
    }
   ],
   "source": [
    "df_resume.head()"
   ]
  },
  {
   "cell_type": "markdown",
   "metadata": {},
   "source": [
    "## 4. Let's really extract skills!!"
   ]
  },
  {
   "cell_type": "code",
   "execution_count": 14,
   "metadata": {},
   "outputs": [],
   "source": [
    "def get_skills(text):\n",
    "    \n",
    "    doc = nlp(text)\n",
    "    \n",
    "    skills = []\n",
    "    \n",
    "    for ent in doc.ents:\n",
    "        # the dataset label is SKILL|<task>\n",
    "        if ent.label_[:5] == 'SKILL':\n",
    "            skills.append(ent.text)\n",
    "            \n",
    "    return skills\n",
    "\n",
    "def unique_skills(x):\n",
    "    return list(set(x))"
   ]
  },
  {
   "cell_type": "code",
   "execution_count": 15,
   "metadata": {},
   "outputs": [],
   "source": [
    "df_resume['Skills'] = df_resume.Clean_resume.apply(get_skills)\n",
    "df_resume['Skills'] = df_resume.Skills.apply(unique_skills)"
   ]
  },
  {
   "cell_type": "code",
   "execution_count": 16,
   "metadata": {},
   "outputs": [
    {
     "data": {
      "text/html": [
       "<div>\n",
       "<style scoped>\n",
       "    .dataframe tbody tr th:only-of-type {\n",
       "        vertical-align: middle;\n",
       "    }\n",
       "\n",
       "    .dataframe tbody tr th {\n",
       "        vertical-align: top;\n",
       "    }\n",
       "\n",
       "    .dataframe thead th {\n",
       "        text-align: right;\n",
       "    }\n",
       "</style>\n",
       "<table border=\"1\" class=\"dataframe\">\n",
       "  <thead>\n",
       "    <tr style=\"text-align: right;\">\n",
       "      <th></th>\n",
       "      <th>ID</th>\n",
       "      <th>Resume_str</th>\n",
       "      <th>Resume_html</th>\n",
       "      <th>Category</th>\n",
       "      <th>Clean_resume</th>\n",
       "      <th>Skills</th>\n",
       "    </tr>\n",
       "  </thead>\n",
       "  <tbody>\n",
       "    <tr>\n",
       "      <th>1653</th>\n",
       "      <td>22249155</td>\n",
       "      <td>EMBROIDERY MACHINE OPERATOR       Sum...</td>\n",
       "      <td>&lt;div class=\"fontsize fontface vmargins hmargin...</td>\n",
       "      <td>APPAREL</td>\n",
       "      <td>embroidery machine operator summary to find em...</td>\n",
       "      <td>[schedule]</td>\n",
       "    </tr>\n",
       "    <tr>\n",
       "      <th>1264</th>\n",
       "      <td>62700506</td>\n",
       "      <td>DIGITAL CONSULTANT         Summary   ...</td>\n",
       "      <td>&lt;div class=\"fontsize fontface vmargins hmargin...</td>\n",
       "      <td>DIGITAL-MEDIA</td>\n",
       "      <td>digital consultant summary i seek position con...</td>\n",
       "      <td>[support, ai, testing, authentication, collabo...</td>\n",
       "    </tr>\n",
       "    <tr>\n",
       "      <th>2024</th>\n",
       "      <td>29061628</td>\n",
       "      <td>CUSTOMER SERVICE REPRESENTATIVE      ...</td>\n",
       "      <td>&lt;div class=\"fontsize fontface vmargins hmargin...</td>\n",
       "      <td>CONSTRUCTION</td>\n",
       "      <td>customer service representative present accomp...</td>\n",
       "      <td>[testing, schedule, material, specification, s...</td>\n",
       "    </tr>\n",
       "    <tr>\n",
       "      <th>823</th>\n",
       "      <td>35302620</td>\n",
       "      <td>BRANCH MANAGER         Summary    Mor...</td>\n",
       "      <td>&lt;div class=\"fontsize fontface vmargins hmargin...</td>\n",
       "      <td>FITNESS</td>\n",
       "      <td>branch manager summary more 5 year successful ...</td>\n",
       "      <td>[support, monitoring, material, payments, docu...</td>\n",
       "    </tr>\n",
       "    <tr>\n",
       "      <th>732</th>\n",
       "      <td>75744306</td>\n",
       "      <td>CUSTOMER SERVICE REPRESENTATIVE      ...</td>\n",
       "      <td>&lt;div class=\"fontsize fontface vmargins hmargin...</td>\n",
       "      <td>HEALTHCARE</td>\n",
       "      <td>customer service representative summary my fav...</td>\n",
       "      <td>[support, design, comprehension, queue, data i...</td>\n",
       "    </tr>\n",
       "  </tbody>\n",
       "</table>\n",
       "</div>"
      ],
      "text/plain": [
       "            ID                                         Resume_str  \\\n",
       "1653  22249155           EMBROIDERY MACHINE OPERATOR       Sum...   \n",
       "1264  62700506           DIGITAL CONSULTANT         Summary   ...   \n",
       "2024  29061628           CUSTOMER SERVICE REPRESENTATIVE      ...   \n",
       "823   35302620           BRANCH MANAGER         Summary    Mor...   \n",
       "732   75744306           CUSTOMER SERVICE REPRESENTATIVE      ...   \n",
       "\n",
       "                                            Resume_html       Category  \\\n",
       "1653  <div class=\"fontsize fontface vmargins hmargin...        APPAREL   \n",
       "1264  <div class=\"fontsize fontface vmargins hmargin...  DIGITAL-MEDIA   \n",
       "2024  <div class=\"fontsize fontface vmargins hmargin...   CONSTRUCTION   \n",
       "823   <div class=\"fontsize fontface vmargins hmargin...        FITNESS   \n",
       "732   <div class=\"fontsize fontface vmargins hmargin...     HEALTHCARE   \n",
       "\n",
       "                                           Clean_resume  \\\n",
       "1653  embroidery machine operator summary to find em...   \n",
       "1264  digital consultant summary i seek position con...   \n",
       "2024  customer service representative present accomp...   \n",
       "823   branch manager summary more 5 year successful ...   \n",
       "732   customer service representative summary my fav...   \n",
       "\n",
       "                                                 Skills  \n",
       "1653                                         [schedule]  \n",
       "1264  [support, ai, testing, authentication, collabo...  \n",
       "2024  [testing, schedule, material, specification, s...  \n",
       "823   [support, monitoring, material, payments, docu...  \n",
       "732   [support, design, comprehension, queue, data i...  "
      ]
     },
     "execution_count": 16,
     "metadata": {},
     "output_type": "execute_result"
    }
   ],
   "source": [
    "df_resume.head()"
   ]
  },
  {
   "cell_type": "code",
   "execution_count": 17,
   "metadata": {},
   "outputs": [
    {
     "data": {
      "text/plain": [
       "['schedule']"
      ]
     },
     "execution_count": 17,
     "metadata": {},
     "output_type": "execute_result"
    }
   ],
   "source": [
    "df_resume.Skills.iloc[0]"
   ]
  },
  {
   "cell_type": "code",
   "execution_count": 18,
   "metadata": {},
   "outputs": [
    {
     "data": {
      "text/plain": [
       "Category\n",
       "ACCOUNTANT                {vault, testing, response time, operations man...\n",
       "ADVOCATE                  {testing, task management, design, nim, securi...\n",
       "AGRICULTURE               {shrinkage, testing, engineering, medium, data...\n",
       "APPAREL                   {segmentation, testing, payments, task managem...\n",
       "ARTS                      {training set, testing, chef, task management,...\n",
       "AUTOMOBILE                {sqlite, testing, design, security, random for...\n",
       "AVIATION                  {testing, design, network management, fingerpr...\n",
       "BANKING                   {segmentation, testing, payments, information ...\n",
       "BPO                       {linux, shrinkage, framework, engineering, tes...\n",
       "BUSINESS-DEVELOPMENT      {testing, chef, task management, information m...\n",
       "CHEF                      {testing, chef, medium, engineering, operation...\n",
       "CONSTRUCTION              {training set, testing, payments, task managem...\n",
       "CONSULTANT                {computational geometry, testing, chef, user p...\n",
       "DESIGNER                  {testing, design, commerce, security, accounti...\n",
       "DIGITAL-MEDIA             {segmentation, testing, information management...\n",
       "ENGINEERING               {testing, automotive engineering, design, comp...\n",
       "FINANCE                   {segmentation, engineering, testing, operation...\n",
       "FITNESS                   {training set, weebly, segmentation, testing, ...\n",
       "HEALTHCARE                {invision, training set, segmentation, testing...\n",
       "HR                        {testing, chef, payments, information manageme...\n",
       "INFORMATION-TECHNOLOGY    {testing, user profile, information management...\n",
       "PUBLIC-RELATIONS          {semantics, testing, chef, task management, de...\n",
       "SALES                     {testing, chef, payments, firefox, task manage...\n",
       "TEACHER                   {vault, shrinkage, testing, framework, medium,...\n",
       "Name: Skills, dtype: object"
      ]
     },
     "execution_count": 18,
     "metadata": {},
     "output_type": "execute_result"
    }
   ],
   "source": [
    "skills_by_category = df_resume.groupby('Category')['Skills'].apply(lambda x: set([skill for sublist in x for skill in sublist]))\n",
    "skills_by_category"
   ]
  },
  {
   "cell_type": "code",
   "execution_count": 19,
   "metadata": {},
   "outputs": [],
   "source": [
    "pickle.dump(skills_by_category, open('./data/skills_by_category.pkl', 'wb'))"
   ]
  },
  {
   "cell_type": "markdown",
   "metadata": {},
   "source": [
    "## 5. Visualization\n",
    "\n",
    "Which skills is most important in information management?"
   ]
  },
  {
   "cell_type": "code",
   "execution_count": 20,
   "metadata": {},
   "outputs": [
    {
     "data": {
      "text/plain": [
       "{'ACCOUNTANT',\n",
       " 'ADVOCATE',\n",
       " 'AGRICULTURE',\n",
       " 'APPAREL',\n",
       " 'ARTS',\n",
       " 'AUTOMOBILE',\n",
       " 'AVIATION',\n",
       " 'BANKING',\n",
       " 'BPO',\n",
       " 'BUSINESS-DEVELOPMENT',\n",
       " 'CHEF',\n",
       " 'CONSTRUCTION',\n",
       " 'CONSULTANT',\n",
       " 'DESIGNER',\n",
       " 'DIGITAL-MEDIA',\n",
       " 'ENGINEERING',\n",
       " 'FINANCE',\n",
       " 'FITNESS',\n",
       " 'HEALTHCARE',\n",
       " 'HR',\n",
       " 'INFORMATION-TECHNOLOGY',\n",
       " 'PUBLIC-RELATIONS',\n",
       " 'SALES',\n",
       " 'TEACHER'}"
      ]
     },
     "execution_count": 20,
     "metadata": {},
     "output_type": "execute_result"
    }
   ],
   "source": [
    "set(df_resume.Category)"
   ]
  },
  {
   "cell_type": "code",
   "execution_count": 21,
   "metadata": {},
   "outputs": [
    {
     "data": {
      "text/plain": [
       "(40, 6)"
      ]
     },
     "execution_count": 21,
     "metadata": {},
     "output_type": "execute_result"
    }
   ],
   "source": [
    "category = 'INFORMATION-TECHNOLOGY'\n",
    "cond = df_resume.Category == category\n",
    "\n",
    "df_resume_it = df_resume[cond]\n",
    "df_resume_it.shape"
   ]
  },
  {
   "cell_type": "code",
   "execution_count": 22,
   "metadata": {},
   "outputs": [],
   "source": [
    "all_skills = np.concatenate(df_resume_it.Skills.values)"
   ]
  },
  {
   "cell_type": "code",
   "execution_count": 23,
   "metadata": {},
   "outputs": [
    {
     "data": {
      "text/plain": [
       "array(['response time', 'medium', 'design', 'security',\n",
       "       'network security', 'operating system', 'windows', 'java',\n",
       "       'software', 'android', 'business', 'business process', 'mobile',\n",
       "       'visual basic', 'support', 'project management', 'help desk',\n",
       "       'database', 'computer science', 'server', 'content management',\n",
       "       'support', 'linux', 'medium', 'ecommerce', 'google', 'design',\n",
       "       'computer science', 'interaction', 'software', 'specification',\n",
       "       'server', 'graphic design', 'advertising', 'security', 'business',\n",
       "       'performance metric', 'marketing', 'medium', 'design', 'security',\n",
       "       'network security', 'windows', 'document management system',\n",
       "       'software', 'business', 'marketing', 'release', 'library',\n",
       "       'business process', 'mobile', 'wide area network',\n",
       "       'network architecture', 'forums', 'support', 'material',\n",
       "       'ecommerce', 'database', 'server', 'support', 'encryption',\n",
       "       'testing', 'workflow', 'router', 'documentation', 'relay',\n",
       "       'business process', 'server', 'certificate', 'security',\n",
       "       'terminal', 'windows', 'business administration', 'linux',\n",
       "       'engineering', 'microprocessor', 'design', 'security',\n",
       "       'network security', 'windows', 'operating systems', 'router',\n",
       "       'documentation', 'software', 'computer programming',\n",
       "       'specification', 'business', 'wireless network',\n",
       "       'project management', 'support', 'material', 'server',\n",
       "       'computer network', 'linux', 'testing', 'databases',\n",
       "       'network performance', 'crystal', 'security', 'windows',\n",
       "       'data analysis', 'documentation', 'performance monitoring',\n",
       "       'software', 'resource allocation', 'business', 'azure',\n",
       "       'deployment', 'vmware vsphere', 'business process', 'component',\n",
       "       'mobile', 'diagram', 'access network', 'support', 'help desk',\n",
       "       'project management', 'monitoring', 'material', 'database',\n",
       "       'server', 'engineering', 'testing', 'design', 'performance metric',\n",
       "       'scanner', 'security', 'operating systems', 'windows',\n",
       "       'documentation', 'software', 'ios', 'deployment',\n",
       "       'wireless network', 'systems management', 'project management',\n",
       "       'support', 'schedule', 'monitoring', 'material', 'database',\n",
       "       'server', 'mechanical engineering', 'time tracking',\n",
       "       'tracking system', 'testing', 'encryption',\n",
       "       'information management', 'design', 'security', 'operating system',\n",
       "       'network security', 'terminal', 'windows', 'source document',\n",
       "       'router', 'documentation', 'software', 'business', 'deployment',\n",
       "       'access control', 'business process', 'wireless',\n",
       "       'computer program', 'component', 'wide area network',\n",
       "       'password management', 'support', 'help desk', 'schedule',\n",
       "       'complex system', 'material', 'database', 'server', 'certificate',\n",
       "       'visual basic', 'schedule', 'software engineering', 'material',\n",
       "       'router', 'data file', 'collaboration', 'database', 'software',\n",
       "       'server', 'certificate', 'telecommunications', 'finance',\n",
       "       'business', 'computer network', 'windows', 'marketing',\n",
       "       'project management', 'support', 'help desk', 'linux',\n",
       "       'monitoring', 'workflow', 'router', 'documentation', 'database',\n",
       "       'server', 'software', 'ethernet', 'security', 'queue', 'windows',\n",
       "       'linux', 'design', 'coordinate system', 'security', 'windows',\n",
       "       'operating systems', 'workflow', 'router', 'software',\n",
       "       'specification', 'ios', 'deployment', 'data center', 'wireless',\n",
       "       'component', 'wide area network', 'mobile', 'unity', 'support',\n",
       "       'help desk', 'database', 'server', 'trend analysis', 'mysql',\n",
       "       'design', 'security', 'windows', 'bash', 'languages',\n",
       "       'file system', 'software', 'application server', 'shell',\n",
       "       'high availability', 'component', 'oracle', 'utilities',\n",
       "       'data integrity', 'support', 'civil engineering', 'schedule',\n",
       "       'monitoring', 'database', 'server', 'linux', 'testing', 'design',\n",
       "       'operating system', 'windows', 'software', 'specification',\n",
       "       'business', 'deployment', 'marketing', 'computer hardware',\n",
       "       'telephony', 'shell', 'simulation', 'component', 'knowledge base',\n",
       "       'unity', 'support', 'help desk', 'computer science', 'server',\n",
       "       'computer network', 'testing', 'jquery', 'design', 'javascript',\n",
       "       'windows', 'operating systems', 'languages', 'java', 'drupal',\n",
       "       'business intelligence', 'documentation', 'software', 'ios',\n",
       "       'ms office', 'selenium', 'deployment', 'ajax', 'middleware',\n",
       "       'business process', 'system testing', 'oracle', 'support',\n",
       "       'python', 'database', 'server', 'computer science',\n",
       "       'data validation', 'code quality', 'project management', 'support',\n",
       "       'confluence', 'framework', 'schedule', 'workflow', 'collaboration',\n",
       "       'design', 'deployment', 'software', 'data acquisition', 'business',\n",
       "       'performance metric', 'supervisory control', 'release', 'linux',\n",
       "       'medium', 'information management', 'mysql', 'design',\n",
       "       'publishing', 'electronic document', 'security',\n",
       "       'operating system', 'javascript', 'windows', 'operating systems',\n",
       "       'languages', 'java', 'workflow', 'ubuntu', 'google', 'multimedia',\n",
       "       'documentation', 'software', 'specification', 'wordpress',\n",
       "       'application server', 'ios', 'ms office', 'business', 'deployment',\n",
       "       'marketing', 'centos', 'business process', 'mobile',\n",
       "       'visual basic', 'project management', 'support', 'material',\n",
       "       'cloudflare', 'database', 'server', 'content management',\n",
       "       'computer network', 'advertising', 'support', 'testing', 'buffer',\n",
       "       'material', 'documentation', 'ms office', 'support',\n",
       "       'project management', 'testing', 'schedule', 'material',\n",
       "       'operations research', 'spring', 'database design', 'design',\n",
       "       'database', 'software', 'ms office', 'security', 'business',\n",
       "       'terminal', 'data structure', 'interaction', 'library',\n",
       "       'languages', 'database', 'support', 'linux', 'workflow',\n",
       "       'virtual machine', 'ubuntu', 'documentation', 'interaction',\n",
       "       'software', 'operating system', 'windows', 'visual studio',\n",
       "       'linux', 'schedule', 'medium', 'material', 'design',\n",
       "       'query language', 'database', 'server', 'software',\n",
       "       'relational database', 'windows', 'testing', 'engineering',\n",
       "       'design', 'security', 'operating system', 'terminal', 'windows',\n",
       "       'database design', 'document management system',\n",
       "       'performance monitoring', 'software', 'pattern recognition',\n",
       "       'business', 'rotation', 'shell', 'oracle', 'support', 'monitoring',\n",
       "       'data access', 'database security', 'database', 'server',\n",
       "       'project management', 'dropbox', 'support', 'engineering',\n",
       "       'testing', 'business administration', 'document management system',\n",
       "       'twitter', 'scanner', 'ethernet', 'mobile', 'security', 'business',\n",
       "       'marketing', 'financial system', 'testing',\n",
       "       'information management', 'security', 'windows',\n",
       "       'business administration', 'specification', 'software', 'ethernet',\n",
       "       'business', 'marketing', 'wireless network', 'telephony',\n",
       "       'wireless', 'mobile', 'box', 'support', 'help desk', 'database',\n",
       "       'server', 'certificate', 'project management', 'support',\n",
       "       'communications', 'design', 'documentation', 'file system',\n",
       "       'relay', 'database', 'certificate', 'system integration',\n",
       "       'security', 'windows', 'business', 'design', 'marketing', 'medium',\n",
       "       'support', 'project management', 'telephony', 'collaboration',\n",
       "       'design', 'devise', 'business process', 'software', 'server',\n",
       "       'computer science', 'ms office', 'finance', 'operating system',\n",
       "       'security', 'business', 'accounting', 'windows', 'release',\n",
       "       'support', 'schedule', 'material', 'finance', 'business',\n",
       "       'accounting', 'support', 'help desk', 'engineering',\n",
       "       'business administration', 'design', 'business process',\n",
       "       'computer science', 'software', 'accounting', 'segment',\n",
       "       'customer relationship management', 'business', 'deployment',\n",
       "       'marketing', 'testing', 'design', 'crystal', 'security', 'windows',\n",
       "       'workflow', 'database design', 'software', 'specification',\n",
       "       'business', 'marketing', 'release', 'adobe photoshop',\n",
       "       'visual basic', 'project management', 'help desk', 'support',\n",
       "       'material', 'database', 'server', 'linux', 'testing', 'medium',\n",
       "       'mysql', 'information management', 'design', 'javascript',\n",
       "       'windows', 'software', 'specification', 'ms office', 'business',\n",
       "       'marketing', 'user interface', 'rotation', 'finance', 'component',\n",
       "       'visual studio', 'support', 'data management', 'schedule',\n",
       "       'project management', 'graphical user interface', 'database',\n",
       "       'server', 'tracking system', 'support', 'testing',\n",
       "       'operating systems', 'design', 'server', 'software', 'accounting',\n",
       "       'operating system', 'component', 'security', 'business',\n",
       "       'terminal', 'windows', 'skype', 'testing', 'design',\n",
       "       'network performance', 'security', 'network security',\n",
       "       'operating system', 'windows', 'router', 'documentation',\n",
       "       'software', 'data processing', 'business', 'ms office',\n",
       "       'deployment', 'wireless', 'component', 'utilities', 'box',\n",
       "       'support', 'help desk', 'server', 'nosql', 'grunt', 'linux',\n",
       "       'testing', 'framework', 'engineering', 'sass', 'jquery', 'mysql',\n",
       "       'information management', 'design', 'spring boot', 'web service',\n",
       "       'gradle', 'security', 'npm', 'javascript', 'data structure',\n",
       "       'operating systems', 'hibernate', 'windows', 'languages', 'java',\n",
       "       'mongodb', 'postgresql', 'algorithms', 'database design',\n",
       "       'codeigniter', 'documentation', 'libraries', 'interaction',\n",
       "       'software', 'specification', 'ios', 'selenium', 'business',\n",
       "       'cucumber', 'user interface', 'search engine', 'spring cloud',\n",
       "       'bootstrap', 'microcontroller', 'git', 'continuous integration',\n",
       "       'object model', 'component', 'mobile', 'queue', 'junit', 'bower',\n",
       "       'version control system', 'support', 'project management',\n",
       "       'github', 'monitoring', 'angularjs', 'spring', 'eclipse',\n",
       "       'jenkins', 'query language', 'database', 'computer science',\n",
       "       'server', 'smart card', 'robot', 'support', 'visual studio',\n",
       "       'business intelligence', 'workflow', 'task management', 'design',\n",
       "       'data processing', 'business process', 'database', 'server',\n",
       "       'software', 'mobile', 'security', 'business', 'windows',\n",
       "       'tracking system', 'marketing', 'data analysis', 'linux',\n",
       "       'engineering', 'user profile', 'network management', 'design',\n",
       "       'coordinate system', 'network performance', 'system integration',\n",
       "       'security', 'operating system', 'windows', 'documentation',\n",
       "       'file system', 'software', 'application server', 'compose',\n",
       "       'ms office', 'business', 'library', 'virtual machine',\n",
       "       'system testing', 'support', 'help desk', 'monitoring',\n",
       "       'computer engineering', 'debugging', 'database', 'server',\n",
       "       'project management', 'support', 'help desk', 'operating systems',\n",
       "       'router', 'web server', 'design', 'systems management', 'server',\n",
       "       'software', 'ms office', 'wireless', 'certificate', 'security',\n",
       "       'business', 'utilities', 'deployment', 'windows', 'support',\n",
       "       'project management', 'data management', 'library',\n",
       "       'business intelligence', 'workflow', 'help desk', 'data center',\n",
       "       'database design', 'database', 'server', 'software',\n",
       "       'object model', 'tableau', 'visualization', 'security', 'business',\n",
       "       'business administration', 'support', 'framework', 'engineering',\n",
       "       'material', 'play', 'design', 'documentation', 'computer science',\n",
       "       'interaction', 'software', 'certificate', 'celery', 'mode',\n",
       "       'authentication', 'design', 'scanner', 'security',\n",
       "       'operating system', 'windows', 'workflow', 'software', 'segment',\n",
       "       'deployment', 'computer hardware', 'release',\n",
       "       'computer architecture', 'system testing', 'wide area network',\n",
       "       'oracle', 'visual basic', 'support', 'help desk',\n",
       "       'local area network', 'project management', 'microcomputer',\n",
       "       'database', 'server', 'certificate'], dtype='<U32')"
      ]
     },
     "execution_count": 23,
     "metadata": {},
     "output_type": "execute_result"
    }
   ],
   "source": [
    "all_skills"
   ]
  },
  {
   "cell_type": "code",
   "execution_count": 24,
   "metadata": {},
   "outputs": [],
   "source": [
    "from collections import Counter, OrderedDict\n",
    "\n",
    "counting = Counter(all_skills)\n",
    "counting = OrderedDict(counting.most_common(10))"
   ]
  },
  {
   "cell_type": "code",
   "execution_count": 25,
   "metadata": {},
   "outputs": [
    {
     "data": {
      "text/plain": [
       "OrderedDict([('support', 36),\n",
       "             ('software', 33),\n",
       "             ('design', 29),\n",
       "             ('windows', 29),\n",
       "             ('server', 29),\n",
       "             ('security', 27),\n",
       "             ('business', 27),\n",
       "             ('database', 24),\n",
       "             ('project management', 17),\n",
       "             ('testing', 16)])"
      ]
     },
     "execution_count": 25,
     "metadata": {},
     "output_type": "execute_result"
    }
   ],
   "source": [
    "counting"
   ]
  },
  {
   "cell_type": "code",
   "execution_count": 26,
   "metadata": {},
   "outputs": [
    {
     "data": {
      "text/plain": [
       "<BarContainer object of 10 artists>"
      ]
     },
     "execution_count": 26,
     "metadata": {},
     "output_type": "execute_result"
    },
    {
     "data": {
      "image/png": "[encoded data removed]",
      "text/plain": [
       "<Figure size 1500x300 with 1 Axes>"
      ]
     },
     "metadata": {},
     "output_type": "display_data"
    }
   ],
   "source": [
    "import matplotlib.pyplot as plt\n",
    "\n",
    "plt.figure(figsize=(15, 3))\n",
    "plt.xticks(rotation=45)\n",
    "\n",
    "plt.bar(counting.keys(), counting.values())"
   ]
  },
  {
   "cell_type": "markdown",
   "metadata": {},
   "source": [
    "## 6. Name Entity Recognition"
   ]
  },
  {
   "cell_type": "code",
   "execution_count": 27,
   "metadata": {},
   "outputs": [],
   "source": [
    "from spacy import displacy\n",
    "\n",
    "text = df_resume_it.Clean_resume.iloc[32]"
   ]
  },
  {
   "cell_type": "code",
   "execution_count": 28,
   "metadata": {},
   "outputs": [],
   "source": [
    "doc = nlp(text)"
   ]
  },
  {
   "cell_type": "code",
   "execution_count": 29,
   "metadata": {},
   "outputs": [
    {
     "data": {
      "text/html": [
       "<span class=\"tex2jax_ignore\"><div class=\"entities\" style=\"line-height: 2.5; direction: ltr\">\n",
       "<mark class=\"entity\" style=\"background: #7aecec; padding: 0.45em 0.6em; margin: 0 0.25em; line-height: 1; border-radius: 0.35em;\">\n",
       "    information technology specialist\n",
       "    <span style=\"font-size: 0.8em; font-weight: bold; line-height: 1; border-radius: 0.35em; vertical-align: middle; margin-left: 0.5rem\">ORG</span>\n",
       "</mark>\n",
       " professional summary experienced network professional outstanding success rate instal \n",
       "<mark class=\"entity\" style=\"background: #ddd; padding: 0.45em 0.6em; margin: 0 0.25em; line-height: 1; border-radius: 0.35em;\">\n",
       "    support\n",
       "    <span style=\"font-size: 0.8em; font-weight: bold; line-height: 1; border-radius: 0.35em; vertical-align: middle; margin-left: 0.5rem\">SKILL|support</span>\n",
       "</mark>\n",
       " critical multi - site network prove ability manage phase network installation administration adept analyze \n",
       "<mark class=\"entity\" style=\"background: #ddd; padding: 0.45em 0.6em; margin: 0 0.25em; line-height: 1; border-radius: 0.35em;\">\n",
       "    business\n",
       "    <span style=\"font-size: 0.8em; font-weight: bold; line-height: 1; border-radius: 0.35em; vertical-align: middle; margin-left: 0.5rem\">SKILL|business</span>\n",
       "</mark>\n",
       " requirement craft technical network solution possess excellent written verbal communication skill knowledge late advance technology network administrator talente resolve highly technical issue efficiently maintain uptime increase productivity level skill remote access \n",
       "<mark class=\"entity\" style=\"background: #ddd; padding: 0.45em 0.6em; margin: 0 0.25em; line-height: 1; border-radius: 0.35em;\">\n",
       "    support\n",
       "    <span style=\"font-size: 0.8em; font-weight: bold; line-height: 1; border-radius: 0.35em; vertical-align: middle; margin-left: 0.5rem\">SKILL|support</span>\n",
       "</mark>\n",
       " systems analysis preventative maintenance expert data backup recovery system \n",
       "<mark class=\"entity\" style=\"background: #ddd; padding: 0.45em 0.6em; margin: 0 0.25em; line-height: 1; border-radius: 0.35em;\">\n",
       "    wireless\n",
       "    <span style=\"font-size: 0.8em; font-weight: bold; line-height: 1; border-radius: 0.35em; vertical-align: middle; margin-left: 0.5rem\">SKILL|wireless</span>\n",
       "</mark>\n",
       " access point performance \n",
       "<mark class=\"entity\" style=\"background: #ddd; padding: 0.45em 0.6em; margin: 0 0.25em; line-height: 1; border-radius: 0.35em;\">\n",
       "    testing\n",
       "    <span style=\"font-size: 0.8em; font-weight: bold; line-height: 1; border-radius: 0.35em; vertical-align: middle; margin-left: 0.5rem\">SKILL|testing</span>\n",
       "</mark>\n",
       " user account creation superb interpersonal skill antivirus spam block vpn configuration \n",
       "<mark class=\"entity\" style=\"background: #aa9cfc; padding: 0.45em 0.6em; margin: 0 0.25em; line-height: 1; border-radius: 0.35em;\">\n",
       "    lan wan\n",
       "    <span style=\"font-size: 0.8em; font-weight: bold; line-height: 1; border-radius: 0.35em; vertical-align: middle; margin-left: 0.5rem\">PERSON</span>\n",
       "</mark>\n",
       " expertise work history information technology specialist \n",
       "<mark class=\"entity\" style=\"background: #e4e7d2; padding: 0.45em 0.6em; margin: 0 0.25em; line-height: 1; border-radius: 0.35em;\">\n",
       "    08/2012\n",
       "    <span style=\"font-size: 0.8em; font-weight: bold; line-height: 1; border-radius: 0.35em; vertical-align: middle; margin-left: 0.5rem\">CARDINAL</span>\n",
       "</mark>\n",
       " current company name city state provide outstanding \n",
       "<mark class=\"entity\" style=\"background: #ddd; padding: 0.45em 0.6em; margin: 0 0.25em; line-height: 1; border-radius: 0.35em;\">\n",
       "    support\n",
       "    <span style=\"font-size: 0.8em; font-weight: bold; line-height: 1; border-radius: 0.35em; vertical-align: middle; margin-left: 0.5rem\">SKILL|support</span>\n",
       "</mark>\n",
       " mission partner customer respond customer call touch labor request ensure confidentiality integrity availability system datum available lan troubleshoot hardware \n",
       "<mark class=\"entity\" style=\"background: #ddd; padding: 0.45em 0.6em; margin: 0 0.25em; line-height: 1; border-radius: 0.35em;\">\n",
       "    software\n",
       "    <span style=\"font-size: 0.8em; font-weight: bold; line-height: 1; border-radius: 0.35em; vertical-align: middle; margin-left: 0.5rem\">SKILL|software</span>\n",
       "</mark>\n",
       " \n",
       "<mark class=\"entity\" style=\"background: #ddd; padding: 0.45em 0.6em; margin: 0 0.25em; line-height: 1; border-radius: 0.35em;\">\n",
       "    component\n",
       "    <span style=\"font-size: 0.8em; font-weight: bold; line-height: 1; border-radius: 0.35em; vertical-align: middle; margin-left: 0.5rem\">SKILL|component</span>\n",
       "</mark>\n",
       " manage \n",
       "<mark class=\"entity\" style=\"background: #ddd; padding: 0.45em 0.6em; margin: 0 0.25em; line-height: 1; border-radius: 0.35em;\">\n",
       "    testing\n",
       "    <span style=\"font-size: 0.8em; font-weight: bold; line-height: 1; border-radius: 0.35em; vertical-align: middle; margin-left: 0.5rem\">SKILL|testing</span>\n",
       "</mark>\n",
       " installation configuration \n",
       "<mark class=\"entity\" style=\"background: #ddd; padding: 0.45em 0.6em; margin: 0 0.25em; line-height: 1; border-radius: 0.35em;\">\n",
       "    software\n",
       "    <span style=\"font-size: 0.8em; font-weight: bold; line-height: 1; border-radius: 0.35em; vertical-align: middle; margin-left: 0.5rem\">SKILL|software</span>\n",
       "</mark>\n",
       " perform \n",
       "<mark class=\"entity\" style=\"background: #bfe1d9; padding: 0.45em 0.6em; margin: 0 0.25em; line-height: 1; border-radius: 0.35em;\">\n",
       "    daily\n",
       "    <span style=\"font-size: 0.8em; font-weight: bold; line-height: 1; border-radius: 0.35em; vertical-align: middle; margin-left: 0.5rem\">DATE</span>\n",
       "</mark>\n",
       " \n",
       "<mark class=\"entity\" style=\"background: #ddd; padding: 0.45em 0.6em; margin: 0 0.25em; line-height: 1; border-radius: 0.35em;\">\n",
       "    security\n",
       "    <span style=\"font-size: 0.8em; font-weight: bold; line-height: 1; border-radius: 0.35em; vertical-align: middle; margin-left: 0.5rem\">SKILL|security</span>\n",
       "</mark>\n",
       " inspection entire decc facility include secure control area \n",
       "<mark class=\"entity\" style=\"background: #7aecec; padding: 0.45em 0.6em; margin: 0 0.25em; line-height: 1; border-radius: 0.35em;\">\n",
       "    identifie\n",
       "    <span style=\"font-size: 0.8em; font-weight: bold; line-height: 1; border-radius: 0.35em; vertical-align: middle; margin-left: 0.5rem\">ORG</span>\n",
       "</mark>\n",
       " mitigate \n",
       "<mark class=\"entity\" style=\"background: #ddd; padding: 0.45em 0.6em; margin: 0 0.25em; line-height: 1; border-radius: 0.35em;\">\n",
       "    security\n",
       "    <span style=\"font-size: 0.8em; font-weight: bold; line-height: 1; border-radius: 0.35em; vertical-align: middle; margin-left: 0.5rem\">SKILL|security</span>\n",
       "</mark>\n",
       " vulnerability coordinate \n",
       "<mark class=\"entity\" style=\"background: #ddd; padding: 0.45em 0.6em; margin: 0 0.25em; line-height: 1; border-radius: 0.35em;\">\n",
       "    security\n",
       "    <span style=\"font-size: 0.8em; font-weight: bold; line-height: 1; border-radius: 0.35em; vertical-align: middle; margin-left: 0.5rem\">SKILL|security</span>\n",
       "</mark>\n",
       " manager coordinate escort decc visitor secure area ensure authorize personnel equipment permit controlled/ secure area enclave lan administrator decc warner robins ensures administrative lan automate \n",
       "<mark class=\"entity\" style=\"background: #ddd; padding: 0.45em 0.6em; margin: 0 0.25em; line-height: 1; border-radius: 0.35em;\">\n",
       "    data processing\n",
       "    <span style=\"font-size: 0.8em; font-weight: bold; line-height: 1; border-radius: 0.35em; vertical-align: middle; margin-left: 0.5rem\">SKILL|data-processing</span>\n",
       "</mark>\n",
       " equipment personnel maintain fully operational plan coordinate installation new \n",
       "<mark class=\"entity\" style=\"background: #ddd; padding: 0.45em 0.6em; margin: 0 0.25em; line-height: 1; border-radius: 0.35em;\">\n",
       "    software\n",
       "    <span style=\"font-size: 0.8em; font-weight: bold; line-height: 1; border-radius: 0.35em; vertical-align: middle; margin-left: 0.5rem\">SKILL|software</span>\n",
       "</mark>\n",
       " network infrastructure equipment monitor \n",
       "<mark class=\"entity\" style=\"background: #ddd; padding: 0.45em 0.6em; margin: 0 0.25em; line-height: 1; border-radius: 0.35em;\">\n",
       "    network performance\n",
       "    <span style=\"font-size: 0.8em; font-weight: bold; line-height: 1; border-radius: 0.35em; vertical-align: middle; margin-left: 0.5rem\">SKILL|network-performance</span>\n",
       "</mark>\n",
       " perform diagnostic identify resolve connectivity issue appoint alternate ticket manager assign track incident status ensure incident work complete allot time escalates forward incident evaluation need implement coordinate complete technology refresh \n",
       "<mark class=\"entity\" style=\"background: #7aecec; padding: 0.45em 0.6em; margin: 0 0.25em; line-height: 1; border-radius: 0.35em;\">\n",
       "    decc adpe\n",
       "    <span style=\"font-size: 0.8em; font-weight: bold; line-height: 1; border-radius: 0.35em; vertical-align: middle; margin-left: 0.5rem\">ORG</span>\n",
       "</mark>\n",
       " ensure staff properly equip \n",
       "<mark class=\"entity\" style=\"background: #ddd; padding: 0.45em 0.6em; margin: 0 0.25em; line-height: 1; border-radius: 0.35em;\">\n",
       "    support\n",
       "    <span style=\"font-size: 0.8em; font-weight: bold; line-height: 1; border-radius: 0.35em; vertical-align: middle; margin-left: 0.5rem\">SKILL|support</span>\n",
       "</mark>\n",
       " decc mission spearhead \n",
       "<mark class=\"entity\" style=\"background: #7aecec; padding: 0.45em 0.6em; margin: 0 0.25em; line-height: 1; border-radius: 0.35em;\">\n",
       "    decc migration admin enclave network\n",
       "    <span style=\"font-size: 0.8em; font-weight: bold; line-height: 1; border-radius: 0.35em; vertical-align: middle; margin-left: 0.5rem\">ORG</span>\n",
       "</mark>\n",
       " disanet network minimal impact decc personnel provide outstanding \n",
       "<mark class=\"entity\" style=\"background: #ddd; padding: 0.45em 0.6em; margin: 0 0.25em; line-height: 1; border-radius: 0.35em;\">\n",
       "    support\n",
       "    <span style=\"font-size: 0.8em; font-weight: bold; line-height: 1; border-radius: 0.35em; vertical-align: middle; margin-left: 0.5rem\">SKILL|support</span>\n",
       "</mark>\n",
       " mission partner customer develop plan \n",
       "<mark class=\"entity\" style=\"background: #ddd; padding: 0.45em 0.6em; margin: 0 0.25em; line-height: 1; border-radius: 0.35em;\">\n",
       "    design\n",
       "    <span style=\"font-size: 0.8em; font-weight: bold; line-height: 1; border-radius: 0.35em; vertical-align: middle; margin-left: 0.5rem\">SKILL|design</span>\n",
       "</mark>\n",
       " network modification enhancement interface vendor ensure appropriate resolution network outage period reduce performance troubleshot maintain networking device infrastructure enterprise include switch \n",
       "<mark class=\"entity\" style=\"background: #ddd; padding: 0.45em 0.6em; margin: 0 0.25em; line-height: 1; border-radius: 0.35em;\">\n",
       "    router\n",
       "    <span style=\"font-size: 0.8em; font-weight: bold; line-height: 1; border-radius: 0.35em; vertical-align: middle; margin-left: 0.5rem\">SKILL|router</span>\n",
       "</mark>\n",
       " firewall troubleshot maintain networking device infrastructure enterprise include switch \n",
       "<mark class=\"entity\" style=\"background: #ddd; padding: 0.45em 0.6em; margin: 0 0.25em; line-height: 1; border-radius: 0.35em;\">\n",
       "    router\n",
       "    <span style=\"font-size: 0.8em; font-weight: bold; line-height: 1; border-radius: 0.35em; vertical-align: middle; margin-left: 0.5rem\">SKILL|router</span>\n",
       "</mark>\n",
       " firewall document \n",
       "<mark class=\"entity\" style=\"background: #ddd; padding: 0.45em 0.6em; margin: 0 0.25em; line-height: 1; border-radius: 0.35em;\">\n",
       "    server\n",
       "    <span style=\"font-size: 0.8em; font-weight: bold; line-height: 1; border-radius: 0.35em; vertical-align: middle; margin-left: 0.5rem\">SKILL|server</span>\n",
       "</mark>\n",
       " network problem unusual event detail upgrade expand network system \n",
       "<mark class=\"entity\" style=\"background: #ddd; padding: 0.45em 0.6em; margin: 0 0.25em; line-height: 1; border-radius: 0.35em;\">\n",
       "    component\n",
       "    <span style=\"font-size: 0.8em; font-weight: bold; line-height: 1; border-radius: 0.35em; vertical-align: middle; margin-left: 0.5rem\">SKILL|component</span>\n",
       "</mark>\n",
       " computer systems administrator \n",
       "<mark class=\"entity\" style=\"background: #bfe1d9; padding: 0.45em 0.6em; margin: 0 0.25em; line-height: 1; border-radius: 0.35em;\">\n",
       "    12/2007\n",
       "    <span style=\"font-size: 0.8em; font-weight: bold; line-height: 1; border-radius: 0.35em; vertical-align: middle; margin-left: 0.5rem\">DATE</span>\n",
       "</mark>\n",
       " \n",
       "<mark class=\"entity\" style=\"background: #e4e7d2; padding: 0.45em 0.6em; margin: 0 0.25em; line-height: 1; border-radius: 0.35em;\">\n",
       "    08/2012\n",
       "    <span style=\"font-size: 0.8em; font-weight: bold; line-height: 1; border-radius: 0.35em; vertical-align: middle; margin-left: 0.5rem\">CARDINAL</span>\n",
       "</mark>\n",
       " company name city state deploy computer system hardware base perform new replacement desktop laptop image user troubleshoot correct local desktop firewall issue antivirus update issue performs upgrade installation \n",
       "<mark class=\"entity\" style=\"background: #ddd; padding: 0.45em 0.6em; margin: 0 0.25em; line-height: 1; border-radius: 0.35em;\">\n",
       "    software\n",
       "    <span style=\"font-size: 0.8em; font-weight: bold; line-height: 1; border-radius: 0.35em; vertical-align: middle; margin-left: 0.5rem\">SKILL|software</span>\n",
       "</mark>\n",
       " driver essential desktop troubleshooting team lead \n",
       "<mark class=\"entity\" style=\"background: #ddd; padding: 0.45em 0.6em; margin: 0 0.25em; line-height: 1; border-radius: 0.35em;\">\n",
       "    deployment\n",
       "    <span style=\"font-size: 0.8em; font-weight: bold; line-height: 1; border-radius: 0.35em; vertical-align: middle; margin-left: 0.5rem\">SKILL|deployment</span>\n",
       "</mark>\n",
       " \n",
       "<mark class=\"entity\" style=\"background: #e4e7d2; padding: 0.45em 0.6em; margin: 0 0.25em; line-height: 1; border-radius: 0.35em;\">\n",
       "    150\n",
       "    <span style=\"font-size: 0.8em; font-weight: bold; line-height: 1; border-radius: 0.35em; vertical-align: middle; margin-left: 0.5rem\">CARDINAL</span>\n",
       "</mark>\n",
       " siprnet workstation tasked primary administrator siprnet \n",
       "<mark class=\"entity\" style=\"background: #ddd; padding: 0.45em 0.6em; margin: 0 0.25em; line-height: 1; border-radius: 0.35em;\">\n",
       "    support\n",
       "    <span style=\"font-size: 0.8em; font-weight: bold; line-height: 1; border-radius: 0.35em; vertical-align: middle; margin-left: 0.5rem\">SKILL|support</span>\n",
       "</mark>\n",
       " zone perform \n",
       "<mark class=\"entity\" style=\"background: #ddd; padding: 0.45em 0.6em; margin: 0 0.25em; line-height: 1; border-radius: 0.35em;\">\n",
       "    security\n",
       "    <span style=\"font-size: 0.8em; font-weight: bold; line-height: 1; border-radius: 0.35em; vertical-align: middle; margin-left: 0.5rem\">SKILL|security</span>\n",
       "</mark>\n",
       " scan classified system collaborate information assurance team mitigate vulnerability breach install configure hardware \n",
       "<mark class=\"entity\" style=\"background: #ddd; padding: 0.45em 0.6em; margin: 0 0.25em; line-height: 1; border-radius: 0.35em;\">\n",
       "    software\n",
       "    <span style=\"font-size: 0.8em; font-weight: bold; line-height: 1; border-radius: 0.35em; vertical-align: middle; margin-left: 0.5rem\">SKILL|software</span>\n",
       "</mark>\n",
       " meet end user need poc install upgrade cargo management operations system provide desktop \n",
       "<mark class=\"entity\" style=\"background: #ddd; padding: 0.45em 0.6em; margin: 0 0.25em; line-height: 1; border-radius: 0.35em;\">\n",
       "    support\n",
       "    <span style=\"font-size: 0.8em; font-weight: bold; line-height: 1; border-radius: 0.35em; vertical-align: middle; margin-left: 0.5rem\">SKILL|support</span>\n",
       "</mark>\n",
       " use utility trouble shoot repair check configuration desktop install configure network pc attach printer include brother \n",
       "<mark class=\"entity\" style=\"background: #7aecec; padding: 0.45em 0.6em; margin: 0 0.25em; line-height: 1; border-radius: 0.35em;\">\n",
       "    hewlett packard xerox\n",
       "    <span style=\"font-size: 0.8em; font-weight: bold; line-height: 1; border-radius: 0.35em; vertical-align: middle; margin-left: 0.5rem\">ORG</span>\n",
       "</mark>\n",
       " multifunction printer troubleshoot diagnose end user network connectivity bandwidth issue dhcp scope issue diagnose correct workstation performance issue maintain network computer system \n",
       "<mark class=\"entity\" style=\"background: #ddd; padding: 0.45em 0.6em; margin: 0 0.25em; line-height: 1; border-radius: 0.35em;\">\n",
       "    security\n",
       "    <span style=\"font-size: 0.8em; font-weight: bold; line-height: 1; border-radius: 0.35em; vertical-align: middle; margin-left: 0.5rem\">SKILL|security</span>\n",
       "</mark>\n",
       " ensure system operate correctly imaged deploy \n",
       "<mark class=\"entity\" style=\"background: #e4e7d2; padding: 0.45em 0.6em; margin: 0 0.25em; line-height: 1; border-radius: 0.35em;\">\n",
       "    300\n",
       "    <span style=\"font-size: 0.8em; font-weight: bold; line-height: 1; border-radius: 0.35em; vertical-align: middle; margin-left: 0.5rem\">CARDINAL</span>\n",
       "</mark>\n",
       " laptop desktop customer \n",
       "<mark class=\"entity\" style=\"background: #7aecec; padding: 0.45em 0.6em; margin: 0 0.25em; line-height: 1; border-radius: 0.35em;\">\n",
       "    robins afb\n",
       "    <span style=\"font-size: 0.8em; font-weight: bold; line-height: 1; border-radius: 0.35em; vertical-align: middle; margin-left: 0.5rem\">ORG</span>\n",
       "</mark>\n",
       " restore datum \n",
       "<mark class=\"entity\" style=\"background: #ddd; padding: 0.45em 0.6em; margin: 0 0.25em; line-height: 1; border-radius: 0.35em;\">\n",
       "    operating system\n",
       "    <span style=\"font-size: 0.8em; font-weight: bold; line-height: 1; border-radius: 0.35em; vertical-align: middle; margin-left: 0.5rem\">SKILL|operating-system</span>\n",
       "</mark>\n",
       " file document driver information assurance \n",
       "<mark class=\"entity\" style=\"background: #ddd; padding: 0.45em 0.6em; margin: 0 0.25em; line-height: 1; border-radius: 0.35em;\">\n",
       "    network security\n",
       "    <span style=\"font-size: 0.8em; font-weight: bold; line-height: 1; border-radius: 0.35em; vertical-align: middle; margin-left: 0.5rem\">SKILL|network-security</span>\n",
       "</mark>\n",
       " 01/2006 \n",
       "<mark class=\"entity\" style=\"background: #bfe1d9; padding: 0.45em 0.6em; margin: 0 0.25em; line-height: 1; border-radius: 0.35em;\">\n",
       "    12/2007\n",
       "    <span style=\"font-size: 0.8em; font-weight: bold; line-height: 1; border-radius: 0.35em; vertical-align: middle; margin-left: 0.5rem\">DATE</span>\n",
       "</mark>\n",
       " company name city state in depth experience multiple environment develop implementing maintain secure network duty range instal maintain workstation manage base boundary exception system distributed monitor maintain time compliance network orders threat bulletin advisory generate af computer emergency response team responsibility accomplishments helpdesk technician \n",
       "<mark class=\"entity\" style=\"background: #e4e7d2; padding: 0.45em 0.6em; margin: 0 0.25em; line-height: 1; border-radius: 0.35em;\">\n",
       "    05/2004 01/2006\n",
       "    <span style=\"font-size: 0.8em; font-weight: bold; line-height: 1; border-radius: 0.35em; vertical-align: middle; margin-left: 0.5rem\">CARDINAL</span>\n",
       "</mark>\n",
       " company name city state responsibility include work end user resolve issue relate \n",
       "<mark class=\"entity\" style=\"background: #ddd; padding: 0.45em 0.6em; margin: 0 0.25em; line-height: 1; border-radius: 0.35em;\">\n",
       "    operating system\n",
       "    <span style=\"font-size: 0.8em; font-weight: bold; line-height: 1; border-radius: 0.35em; vertical-align: middle; margin-left: 0.5rem\">SKILL|operating-system</span>\n",
       "</mark>\n",
       " issue win9x nt win \n",
       "<mark class=\"entity\" style=\"background: #e4e7d2; padding: 0.45em 0.6em; margin: 0 0.25em; line-height: 1; border-radius: 0.35em;\">\n",
       "    2000\n",
       "    <span style=\"font-size: 0.8em; font-weight: bold; line-height: 1; border-radius: 0.35em; vertical-align: middle; margin-left: 0.5rem\">CARDINAL</span>\n",
       "</mark>\n",
       " network connectivity tcp ip configuration upgrade \n",
       "<mark class=\"entity\" style=\"background: #ddd; padding: 0.45em 0.6em; margin: 0 0.25em; line-height: 1; border-radius: 0.35em;\">\n",
       "    ms office\n",
       "    <span style=\"font-size: 0.8em; font-weight: bold; line-height: 1; border-radius: 0.35em; vertical-align: middle; margin-left: 0.5rem\">SKILL|ms-office</span>\n",
       "</mark>\n",
       " product internet connectivity respond customer issue provide technical \n",
       "<mark class=\"entity\" style=\"background: #ddd; padding: 0.45em 0.6em; margin: 0 0.25em; line-height: 1; border-radius: 0.35em;\">\n",
       "    support\n",
       "    <span style=\"font-size: 0.8em; font-weight: bold; line-height: 1; border-radius: 0.35em; vertical-align: middle; margin-left: 0.5rem\">SKILL|support</span>\n",
       "</mark>\n",
       " monitor network control center system \n",
       "<mark class=\"entity\" style=\"background: #ddd; padding: 0.45em 0.6em; margin: 0 0.25em; line-height: 1; border-radius: 0.35em;\">\n",
       "    support\n",
       "    <span style=\"font-size: 0.8em; font-weight: bold; line-height: 1; border-radius: 0.35em; vertical-align: middle; margin-left: 0.5rem\">SKILL|support</span>\n",
       "</mark>\n",
       " \n",
       "<mark class=\"entity\" style=\"background: #e4e7d2; padding: 0.45em 0.6em; margin: 0 0.25em; line-height: 1; border-radius: 0.35em;\">\n",
       "    25,000\n",
       "    <span style=\"font-size: 0.8em; font-weight: bold; line-height: 1; border-radius: 0.35em; vertical-align: middle; margin-left: 0.5rem\">CARDINAL</span>\n",
       "</mark>\n",
       " customer create maintain user account email \n",
       "<mark class=\"entity\" style=\"background: #ddd; padding: 0.45em 0.6em; margin: 0 0.25em; line-height: 1; border-radius: 0.35em;\">\n",
       "    box\n",
       "    <span style=\"font-size: 0.8em; font-weight: bold; line-height: 1; border-radius: 0.35em; vertical-align: middle; margin-left: 0.5rem\">SKILL|box</span>\n",
       "</mark>\n",
       " distribution list access permission installed program perform upgrade apply \n",
       "<mark class=\"entity\" style=\"background: #ddd; padding: 0.45em 0.6em; margin: 0 0.25em; line-height: 1; border-radius: 0.35em;\">\n",
       "    security\n",
       "    <span style=\"font-size: 0.8em; font-weight: bold; line-height: 1; border-radius: 0.35em; vertical-align: middle; margin-left: 0.5rem\">SKILL|security</span>\n",
       "</mark>\n",
       " patch necessary isolated fault degradation determine cause maintain \n",
       "<mark class=\"entity\" style=\"background: #ddd; padding: 0.45em 0.6em; margin: 0 0.25em; line-height: 1; border-radius: 0.35em;\">\n",
       "    security\n",
       "    <span style=\"font-size: 0.8em; font-weight: bold; line-height: 1; border-radius: 0.35em; vertical-align: middle; margin-left: 0.5rem\">SKILL|security</span>\n",
       "</mark>\n",
       " integrity secure domain unauthorized access education bachelor science computer information systems \n",
       "<mark class=\"entity\" style=\"background: #bfe1d9; padding: 0.45em 0.6em; margin: 0 0.25em; line-height: 1; border-radius: 0.35em;\">\n",
       "    2002\n",
       "    <span style=\"font-size: 0.8em; font-weight: bold; line-height: 1; border-radius: 0.35em; vertical-align: middle; margin-left: 0.5rem\">DATE</span>\n",
       "</mark>\n",
       " \n",
       "<mark class=\"entity\" style=\"background: #7aecec; padding: 0.45em 0.6em; margin: 0 0.25em; line-height: 1; border-radius: 0.35em;\">\n",
       "    jacksonville university city state computer information systems certifications\n",
       "    <span style=\"font-size: 0.8em; font-weight: bold; line-height: 1; border-radius: 0.35em; vertical-align: middle; margin-left: 0.5rem\">ORG</span>\n",
       "</mark>\n",
       " comptia a+ comptia security+ sti certified \n",
       "<mark class=\"entity\" style=\"background: #ddd; padding: 0.45em 0.6em; margin: 0 0.25em; line-height: 1; border-radius: 0.35em;\">\n",
       "    help desk\n",
       "    <span style=\"font-size: 0.8em; font-weight: bold; line-height: 1; border-radius: 0.35em; vertical-align: middle; margin-left: 0.5rem\">SKILL|help-desk</span>\n",
       "</mark>\n",
       " professional skill a+ active directory administrative antivirus c client \n",
       "<mark class=\"entity\" style=\"background: #ddd; padding: 0.45em 0.6em; margin: 0 0.25em; line-height: 1; border-radius: 0.35em;\">\n",
       "    server\n",
       "    <span style=\"font-size: 0.8em; font-weight: bold; line-height: 1; border-radius: 0.35em; vertical-align: middle; margin-left: 0.5rem\">SKILL|server</span>\n",
       "</mark>\n",
       " compaq hardware client datum processing \n",
       "<mark class=\"entity\" style=\"background: #7aecec; padding: 0.45em 0.6em; margin: 0 0.25em; line-height: 1; border-radius: 0.35em;\">\n",
       "    dell\n",
       "    <span style=\"font-size: 0.8em; font-weight: bold; line-height: 1; border-radius: 0.35em; vertical-align: middle; margin-left: 0.5rem\">ORG</span>\n",
       "</mark>\n",
       " \n",
       "<mark class=\"entity\" style=\"background: #ddd; padding: 0.45em 0.6em; margin: 0 0.25em; line-height: 1; border-radius: 0.35em;\">\n",
       "    server\n",
       "    <span style=\"font-size: 0.8em; font-weight: bold; line-height: 1; border-radius: 0.35em; vertical-align: middle; margin-left: 0.5rem\">SKILL|server</span>\n",
       "</mark>\n",
       " desktop dhcp \n",
       "<mark class=\"entity\" style=\"background: #ddd; padding: 0.45em 0.6em; margin: 0 0.25em; line-height: 1; border-radius: 0.35em;\">\n",
       "    documentation\n",
       "    <span style=\"font-size: 0.8em; font-weight: bold; line-height: 1; border-radius: 0.35em; vertical-align: middle; margin-left: 0.5rem\">SKILL|documentation</span>\n",
       "</mark>\n",
       " driver email firewall ghost \n",
       "<mark class=\"entity\" style=\"background: #ddd; padding: 0.45em 0.6em; margin: 0 0.25em; line-height: 1; border-radius: 0.35em;\">\n",
       "    help desk\n",
       "    <span style=\"font-size: 0.8em; font-weight: bold; line-height: 1; border-radius: 0.35em; vertical-align: middle; margin-left: 0.5rem\">SKILL|help-desk</span>\n",
       "</mark>\n",
       " \n",
       "<mark class=\"entity\" style=\"background: #7aecec; padding: 0.45em 0.6em; margin: 0 0.25em; line-height: 1; border-radius: 0.35em;\">\n",
       "    hewlett packard ibm\n",
       "    <span style=\"font-size: 0.8em; font-weight: bold; line-height: 1; border-radius: 0.35em; vertical-align: middle; margin-left: 0.5rem\">ORG</span>\n",
       "</mark>\n",
       " imaging information systems internet connectivity lan team lead managing mcafee access \n",
       "<mark class=\"entity\" style=\"background: #7aecec; padding: 0.45em 0.6em; margin: 0 0.25em; line-height: 1; border-radius: 0.35em;\">\n",
       "    microsoft\n",
       "    <span style=\"font-size: 0.8em; font-weight: bold; line-height: 1; border-radius: 0.35em; vertical-align: middle; margin-left: 0.5rem\">ORG</span>\n",
       "</mark>\n",
       " exchange \n",
       "<mark class=\"entity\" style=\"background: #ddd; padding: 0.45em 0.6em; margin: 0 0.25em; line-height: 1; border-radius: 0.35em;\">\n",
       "    ms office\n",
       "    <span style=\"font-size: 0.8em; font-weight: bold; line-height: 1; border-radius: 0.35em; vertical-align: middle; margin-left: 0.5rem\">SKILL|ms-office</span>\n",
       "</mark>\n",
       " product \n",
       "<mark class=\"entity\" style=\"background: #7aecec; padding: 0.45em 0.6em; margin: 0 0.25em; line-height: 1; border-radius: 0.35em;\">\n",
       "    microsoft\n",
       "    <span style=\"font-size: 0.8em; font-weight: bold; line-height: 1; border-radius: 0.35em; vertical-align: middle; margin-left: 0.5rem\">ORG</span>\n",
       "</mark>\n",
       " office suite \n",
       "<mark class=\"entity\" style=\"background: #ddd; padding: 0.45em 0.6em; margin: 0 0.25em; line-height: 1; border-radius: 0.35em;\">\n",
       "    windows\n",
       "    <span style=\"font-size: 0.8em; font-weight: bold; line-height: 1; border-radius: 0.35em; vertical-align: middle; margin-left: 0.5rem\">SKILL|windows</span>\n",
       "</mark>\n",
       " \n",
       "<mark class=\"entity\" style=\"background: #e4e7d2; padding: 0.45em 0.6em; margin: 0 0.25em; line-height: 1; border-radius: 0.35em;\">\n",
       "    7\n",
       "    <span style=\"font-size: 0.8em; font-weight: bold; line-height: 1; border-radius: 0.35em; vertical-align: middle; margin-left: 0.5rem\">CARDINAL</span>\n",
       "</mark>\n",
       " win9 \n",
       "<mark class=\"entity\" style=\"background: #ddd; padding: 0.45em 0.6em; margin: 0 0.25em; line-height: 1; border-radius: 0.35em;\">\n",
       "    windows\n",
       "    <span style=\"font-size: 0.8em; font-weight: bold; line-height: 1; border-radius: 0.35em; vertical-align: middle; margin-left: 0.5rem\">SKILL|windows</span>\n",
       "</mark>\n",
       " \n",
       "<mark class=\"entity\" style=\"background: #bfe1d9; padding: 0.45em 0.6em; margin: 0 0.25em; line-height: 1; border-radius: 0.35em;\">\n",
       "    2000 2000\n",
       "    <span style=\"font-size: 0.8em; font-weight: bold; line-height: 1; border-radius: 0.35em; vertical-align: middle; margin-left: 0.5rem\">DATE</span>\n",
       "</mark>\n",
       " win \n",
       "<mark class=\"entity\" style=\"background: #e4e7d2; padding: 0.45em 0.6em; margin: 0 0.25em; line-height: 1; border-radius: 0.35em;\">\n",
       "    2000\n",
       "    <span style=\"font-size: 0.8em; font-weight: bold; line-height: 1; border-radius: 0.35em; vertical-align: middle; margin-left: 0.5rem\">CARDINAL</span>\n",
       "</mark>\n",
       " \n",
       "<mark class=\"entity\" style=\"background: #ddd; padding: 0.45em 0.6em; margin: 0 0.25em; line-height: 1; border-radius: 0.35em;\">\n",
       "    windows\n",
       "    <span style=\"font-size: 0.8em; font-weight: bold; line-height: 1; border-radius: 0.35em; vertical-align: middle; margin-left: 0.5rem\">SKILL|windows</span>\n",
       "</mark>\n",
       " \n",
       "<mark class=\"entity\" style=\"background: #e4e7d2; padding: 0.45em 0.6em; margin: 0 0.25em; line-height: 1; border-radius: 0.35em;\">\n",
       "    95 98\n",
       "    <span style=\"font-size: 0.8em; font-weight: bold; line-height: 1; border-radius: 0.35em; vertical-align: middle; margin-left: 0.5rem\">CARDINAL</span>\n",
       "</mark>\n",
       " nt \n",
       "<mark class=\"entity\" style=\"background: #ddd; padding: 0.45em 0.6em; margin: 0 0.25em; line-height: 1; border-radius: 0.35em;\">\n",
       "    windows\n",
       "    <span style=\"font-size: 0.8em; font-weight: bold; line-height: 1; border-radius: 0.35em; vertical-align: middle; margin-left: 0.5rem\">SKILL|windows</span>\n",
       "</mark>\n",
       " nt migration monitors enterprise network administration \n",
       "<mark class=\"entity\" style=\"background: #ddd; padding: 0.45em 0.6em; margin: 0 0.25em; line-height: 1; border-radius: 0.35em;\">\n",
       "    network security\n",
       "    <span style=\"font-size: 0.8em; font-weight: bold; line-height: 1; border-radius: 0.35em; vertical-align: middle; margin-left: 0.5rem\">SKILL|network-security</span>\n",
       "</mark>\n",
       " network networking network norton antivirus \n",
       "<mark class=\"entity\" style=\"background: #ddd; padding: 0.45em 0.6em; margin: 0 0.25em; line-height: 1; border-radius: 0.35em;\">\n",
       "    operating system\n",
       "    <span style=\"font-size: 0.8em; font-weight: bold; line-height: 1; border-radius: 0.35em; vertical-align: middle; margin-left: 0.5rem\">SKILL|operating-system</span>\n",
       "</mark>\n",
       " \n",
       "<mark class=\"entity\" style=\"background: #ddd; padding: 0.45em 0.6em; margin: 0 0.25em; line-height: 1; border-radius: 0.35em;\">\n",
       "    operating system\n",
       "    <span style=\"font-size: 0.8em; font-weight: bold; line-height: 1; border-radius: 0.35em; vertical-align: middle; margin-left: 0.5rem\">SKILL|operating-system</span>\n",
       "</mark>\n",
       " peripheral personnel policy printer various printer process risk management \n",
       "<mark class=\"entity\" style=\"background: #ddd; padding: 0.45em 0.6em; margin: 0 0.25em; line-height: 1; border-radius: 0.35em;\">\n",
       "    router\n",
       "    <span style=\"font-size: 0.8em; font-weight: bold; line-height: 1; border-radius: 0.35em; vertical-align: middle; margin-left: 0.5rem\">SKILL|router</span>\n",
       "</mark>\n",
       " switch symantec tcp ip technical \n",
       "<mark class=\"entity\" style=\"background: #ddd; padding: 0.45em 0.6em; margin: 0 0.25em; line-height: 1; border-radius: 0.35em;\">\n",
       "    support\n",
       "    <span style=\"font-size: 0.8em; font-weight: bold; line-height: 1; border-radius: 0.35em; vertical-align: middle; margin-left: 0.5rem\">SKILL|support</span>\n",
       "</mark>\n",
       " desktop \n",
       "<mark class=\"entity\" style=\"background: #ddd; padding: 0.45em 0.6em; margin: 0 0.25em; line-height: 1; border-radius: 0.35em;\">\n",
       "    support\n",
       "    <span style=\"font-size: 0.8em; font-weight: bold; line-height: 1; border-radius: 0.35em; vertical-align: middle; margin-left: 0.5rem\">SKILL|support</span>\n",
       "</mark>\n",
       " troubleshoot trouble shoot troubleshooting upgrade \n",
       "<mark class=\"entity\" style=\"background: #ddd; padding: 0.45em 0.6em; margin: 0 0.25em; line-height: 1; border-radius: 0.35em;\">\n",
       "    utilities\n",
       "    <span style=\"font-size: 0.8em; font-weight: bold; line-height: 1; border-radius: 0.35em; vertical-align: middle; margin-left: 0.5rem\">SKILL|utilities</span>\n",
       "</mark>\n",
       " \n",
       "<mark class=\"entity\" style=\"background: #7aecec; padding: 0.45em 0.6em; margin: 0 0.25em; line-height: 1; border-radius: 0.35em;\">\n",
       "    vista\n",
       "    <span style=\"font-size: 0.8em; font-weight: bold; line-height: 1; border-radius: 0.35em; vertical-align: middle; margin-left: 0.5rem\">ORG</span>\n",
       "</mark>\n",
       " additional information \n",
       "<mark class=\"entity\" style=\"background: #ddd; padding: 0.45em 0.6em; margin: 0 0.25em; line-height: 1; border-radius: 0.35em;\">\n",
       "    security\n",
       "    <span style=\"font-size: 0.8em; font-weight: bold; line-height: 1; border-radius: 0.35em; vertical-align: middle; margin-left: 0.5rem\">SKILL|security</span>\n",
       "</mark>\n",
       " clearance tsci top secret \n",
       "<mark class=\"entity\" style=\"background: #ddd; padding: 0.45em 0.6em; margin: 0 0.25em; line-height: 1; border-radius: 0.35em;\">\n",
       "    security\n",
       "    <span style=\"font-size: 0.8em; font-weight: bold; line-height: 1; border-radius: 0.35em; vertical-align: middle; margin-left: 0.5rem\">SKILL|security</span>\n",
       "</mark>\n",
       " clearance</div></span>"
      ],
      "text/plain": [
       "<IPython.core.display.HTML object>"
      ]
     },
     "metadata": {},
     "output_type": "display_data"
    }
   ],
   "source": [
    "colors = {\"SKILL\": \"linear-gradient(90deg, #aa9cfc, #fc9ce7)\"}\n",
    "options = {\"colors\": colors}\n",
    "\n",
    "displacy.render(doc, style='ent', options=options)"
   ]
  },
  {
   "cell_type": "markdown",
   "metadata": {},
   "source": [
    "## 7. Let's load the PDF - add some realism"
   ]
  },
  {
   "cell_type": "markdown",
   "metadata": {},
   "source": [
    "A sample resume from [here](https://ait.ac.th/wp-content/uploads/2021/12/chaky_resume.pdf). Thanks to chaky, we can have a sample resume with real name of person, organizations, institutes, etc. Most sample resumes distributed online have named entity masked and we cannot evaluate if our parsing method works well with NER or not."
   ]
  },
  {
   "cell_type": "code",
   "execution_count": 30,
   "metadata": {},
   "outputs": [],
   "source": [
    "from PyPDF2 import PdfReader\n",
    "\n",
    "# reader = PdfReader(\"./data/Sample_Resume.pdf\")\n",
    "reader = PdfReader(\"./data/chaky_resume.pdf\")\n",
    "page = reader.pages[0]\n",
    "text = page.extract_text()"
   ]
  },
  {
   "cell_type": "code",
   "execution_count": 31,
   "metadata": {},
   "outputs": [],
   "source": [
    "text = preprocessing(text)"
   ]
  },
  {
   "cell_type": "code",
   "execution_count": 32,
   "metadata": {},
   "outputs": [],
   "source": [
    "doc = nlp(text)"
   ]
  },
  {
   "cell_type": "code",
   "execution_count": 33,
   "metadata": {},
   "outputs": [
    {
     "data": {
      "text/html": [
       "<span class=\"tex2jax_ignore\"><div class=\"entities\" style=\"line-height: 2.5; direction: ltr\">\n",
       "<mark class=\"entity\" style=\"background: #aa9cfc; padding: 0.45em 0.6em; margin: 0 0.25em; line-height: 1; border-radius: 0.35em;\">\n",
       "    chaklam silpasuwanchai email\n",
       "    <span style=\"font-size: 0.8em; font-weight: bold; line-height: 1; border-radius: 0.35em; vertical-align: middle; margin-left: 0.5rem\">PERSON</span>\n",
       "</mark>\n",
       " chaklam@ait.asia http://chaklam.com \n",
       "<mark class=\"entity\" style=\"background: #ddd; padding: 0.45em 0.6em; margin: 0 0.25em; line-height: 1; border-radius: 0.35em;\">\n",
       "    mobile\n",
       "    <span style=\"font-size: 0.8em; font-weight: bold; line-height: 1; border-radius: 0.35em; vertical-align: middle; margin-left: 0.5rem\">SKILL|mobile</span>\n",
       "</mark>\n",
       " +66 - 63 \n",
       "<mark class=\"entity\" style=\"background: #e4e7d2; padding: 0.45em 0.6em; margin: 0 0.25em; line-height: 1; border-radius: 0.35em;\">\n",
       "    310 - 9191\n",
       "    <span style=\"font-size: 0.8em; font-weight: bold; line-height: 1; border-radius: 0.35em; vertical-align: middle; margin-left: 0.5rem\">QUANTITY</span>\n",
       "</mark>\n",
       " http://github.com/chaklam-silpasuwanchai skill •language \n",
       "<mark class=\"entity\" style=\"background: #ddd; padding: 0.45em 0.6em; margin: 0 0.25em; line-height: 1; border-radius: 0.35em;\">\n",
       "    python\n",
       "    <span style=\"font-size: 0.8em; font-weight: bold; line-height: 1; border-radius: 0.35em; vertical-align: middle; margin-left: 0.5rem\">SKILL|python</span>\n",
       "</mark>\n",
       " \n",
       "<mark class=\"entity\" style=\"background: #ddd; padding: 0.45em 0.6em; margin: 0 0.25em; line-height: 1; border-radius: 0.35em;\">\n",
       "    java\n",
       "    <span style=\"font-size: 0.8em; font-weight: bold; line-height: 1; border-radius: 0.35em; vertical-align: middle; margin-left: 0.5rem\">SKILL|java</span>\n",
       "</mark>\n",
       " •tool frameworks \n",
       "<mark class=\"entity\" style=\"background: #ddd; padding: 0.45em 0.6em; margin: 0 0.25em; line-height: 1; border-radius: 0.35em;\">\n",
       "    pytorch\n",
       "    <span style=\"font-size: 0.8em; font-weight: bold; line-height: 1; border-radius: 0.35em; vertical-align: middle; margin-left: 0.5rem\">SKILL|pytorch</span>\n",
       "</mark>\n",
       " \n",
       "<mark class=\"entity\" style=\"background: #ddd; padding: 0.45em 0.6em; margin: 0 0.25em; line-height: 1; border-radius: 0.35em;\">\n",
       "    springboot\n",
       "    <span style=\"font-size: 0.8em; font-weight: bold; line-height: 1; border-radius: 0.35em; vertical-align: middle; margin-left: 0.5rem\">SKILL|springboot</span>\n",
       "</mark>\n",
       " •theory machine \n",
       "<mark class=\"entity\" style=\"background: #ddd; padding: 0.45em 0.6em; margin: 0 0.25em; line-height: 1; border-radius: 0.35em;\">\n",
       "    deep learning\n",
       "    <span style=\"font-size: 0.8em; font-weight: bold; line-height: 1; border-radius: 0.35em; vertical-align: middle; margin-left: 0.5rem\">SKILL|deep-learning</span>\n",
       "</mark>\n",
       " \n",
       "<mark class=\"entity\" style=\"background: #ddd; padding: 0.45em 0.6em; margin: 0 0.25em; line-height: 1; border-radius: 0.35em;\">\n",
       "    natural language processing\n",
       "    <span style=\"font-size: 0.8em; font-weight: bold; line-height: 1; border-radius: 0.35em; vertical-align: middle; margin-left: 0.5rem\">SKILL|natural-language-processing</span>\n",
       "</mark>\n",
       " \n",
       "<mark class=\"entity\" style=\"background: #ddd; padding: 0.45em 0.6em; margin: 0 0.25em; line-height: 1; border-radius: 0.35em;\">\n",
       "    software engineering\n",
       "    <span style=\"font-size: 0.8em; font-weight: bold; line-height: 1; border-radius: 0.35em; vertical-align: middle; margin-left: 0.5rem\">SKILL|software-engineering</span>\n",
       "</mark>\n",
       " hypothesis \n",
       "<mark class=\"entity\" style=\"background: #ddd; padding: 0.45em 0.6em; margin: 0 0.25em; line-height: 1; border-radius: 0.35em;\">\n",
       "    testing\n",
       "    <span style=\"font-size: 0.8em; font-weight: bold; line-height: 1; border-radius: 0.35em; vertical-align: middle; margin-left: 0.5rem\">SKILL|testing</span>\n",
       "</mark>\n",
       " \n",
       "<mark class=\"entity\" style=\"background: #ddd; padding: 0.45em 0.6em; margin: 0 0.25em; line-height: 1; border-radius: 0.35em;\">\n",
       "    data structures\n",
       "    <span style=\"font-size: 0.8em; font-weight: bold; line-height: 1; border-radius: 0.35em; vertical-align: middle; margin-left: 0.5rem\">SKILL|data-structures</span>\n",
       "</mark>\n",
       " \n",
       "<mark class=\"entity\" style=\"background: #ddd; padding: 0.45em 0.6em; margin: 0 0.25em; line-height: 1; border-radius: 0.35em;\">\n",
       "    algorithms\n",
       "    <span style=\"font-size: 0.8em; font-weight: bold; line-height: 1; border-radius: 0.35em; vertical-align: middle; margin-left: 0.5rem\">SKILL|algorithm</span>\n",
       "</mark>\n",
       " selected projects •bci speller develop real time speller eeg currently collaborate scg •alzheimer prediction use fmri image propose shot learning semantic \n",
       "<mark class=\"entity\" style=\"background: #ddd; padding: 0.45em 0.6em; margin: 0 0.25em; line-height: 1; border-radius: 0.35em;\">\n",
       "    segmentation\n",
       "    <span style=\"font-size: 0.8em; font-weight: bold; line-height: 1; border-radius: 0.35em; vertical-align: middle; margin-left: 0.5rem\">SKILL|segmentation</span>\n",
       "</mark>\n",
       " alzheimer prediction currently collaborate \n",
       "<mark class=\"entity\" style=\"background: #7aecec; padding: 0.45em 0.6em; margin: 0 0.25em; line-height: 1; border-radius: 0.35em;\">\n",
       "    siriraj hospital •non\n",
       "    <span style=\"font-size: 0.8em; font-weight: bold; line-height: 1; border-radius: 0.35em; vertical-align: middle; margin-left: 0.5rem\">ORG</span>\n",
       "</mark>\n",
       " invasive blood glucose measuring use raman spectroscopy utilize raman spectroscopy non - invasively measure blood \n",
       "<mark class=\"entity\" style=\"background: #aa9cfc; padding: 0.45em 0.6em; margin: 0 0.25em; line-height: 1; border-radius: 0.35em;\">\n",
       "    glucose ngernail\n",
       "    <span style=\"font-size: 0.8em; font-weight: bold; line-height: 1; border-radius: 0.35em; vertical-align: middle; margin-left: 0.5rem\">PERSON</span>\n",
       "</mark>\n",
       " currently collaborate \n",
       "<mark class=\"entity\" style=\"background: #7aecec; padding: 0.45em 0.6em; margin: 0 0.25em; line-height: 1; border-radius: 0.35em;\">\n",
       "    mahidol university •emotion\n",
       "    <span style=\"font-size: 0.8em; font-weight: bold; line-height: 1; border-radius: 0.35em; vertical-align: middle; margin-left: 0.5rem\">ORG</span>\n",
       "</mark>\n",
       " cognition recognition develop real time \n",
       "<mark class=\"entity\" style=\"background: #ddd; padding: 0.45em 0.6em; margin: 0 0.25em; line-height: 1; border-radius: 0.35em;\">\n",
       "    emotion\n",
       "    <span style=\"font-size: 0.8em; font-weight: bold; line-height: 1; border-radius: 0.35em; vertical-align: middle; margin-left: 0.5rem\">SKILL|emotion</span>\n",
       "</mark>\n",
       " cognition recognizer eeg currently collaborate robotic premium working experience \n",
       "<mark class=\"entity\" style=\"background: #7aecec; padding: 0.45em 0.6em; margin: 0 0.25em; line-height: 1; border-radius: 0.35em;\">\n",
       "    •asian institute\n",
       "    <span style=\"font-size: 0.8em; font-weight: bold; line-height: 1; border-radius: 0.35em; vertical-align: middle; margin-left: 0.5rem\">ORG</span>\n",
       "</mark>\n",
       " technology \n",
       "<mark class=\"entity\" style=\"background: #7aecec; padding: 0.45em 0.6em; margin: 0 0.25em; line-height: 1; border-radius: 0.35em;\">\n",
       "    pathumthani thailand\n",
       "    <span style=\"font-size: 0.8em; font-weight: bold; line-height: 1; border-radius: 0.35em; vertical-align: middle; margin-left: 0.5rem\">ORG</span>\n",
       "</mark>\n",
       " assistant professor school \n",
       "<mark class=\"entity\" style=\"background: #ddd; padding: 0.45em 0.6em; margin: 0 0.25em; line-height: 1; border-radius: 0.35em;\">\n",
       "    engineering\n",
       "    <span style=\"font-size: 0.8em; font-weight: bold; line-height: 1; border-radius: 0.35em; vertical-align: middle; margin-left: 0.5rem\">SKILL|engineering</span>\n",
       "</mark>\n",
       " technology \n",
       "<mark class=\"entity\" style=\"background: #bfe1d9; padding: 0.45em 0.6em; margin: 0 0.25em; line-height: 1; border-radius: 0.35em;\">\n",
       "    january 2019\n",
       "    <span style=\"font-size: 0.8em; font-weight: bold; line-height: 1; border-radius: 0.35em; vertical-align: middle; margin-left: 0.5rem\">DATE</span>\n",
       "</mark>\n",
       " present •stamford international university \n",
       "<mark class=\"entity\" style=\"background: #7aecec; padding: 0.45em 0.6em; margin: 0 0.25em; line-height: 1; border-radius: 0.35em;\">\n",
       "    bangkok thailand faculty\n",
       "    <span style=\"font-size: 0.8em; font-weight: bold; line-height: 1; border-radius: 0.35em; vertical-align: middle; margin-left: 0.5rem\">ORG</span>\n",
       "</mark>\n",
       " it program faculty \n",
       "<mark class=\"entity\" style=\"background: #ddd; padding: 0.45em 0.6em; margin: 0 0.25em; line-height: 1; border-radius: 0.35em;\">\n",
       "    business\n",
       "    <span style=\"font-size: 0.8em; font-weight: bold; line-height: 1; border-radius: 0.35em; vertical-align: middle; margin-left: 0.5rem\">SKILL|business</span>\n",
       "</mark>\n",
       " technology \n",
       "<mark class=\"entity\" style=\"background: #bfe1d9; padding: 0.45em 0.6em; margin: 0 0.25em; line-height: 1; border-radius: 0.35em;\">\n",
       "    march 2017 december\n",
       "    <span style=\"font-size: 0.8em; font-weight: bold; line-height: 1; border-radius: 0.35em; vertical-align: middle; margin-left: 0.5rem\">DATE</span>\n",
       "</mark>\n",
       " 2019 \n",
       "<mark class=\"entity\" style=\"background: #7aecec; padding: 0.45em 0.6em; margin: 0 0.25em; line-height: 1; border-radius: 0.35em;\">\n",
       "    •kasetsart university\n",
       "    <span style=\"font-size: 0.8em; font-weight: bold; line-height: 1; border-radius: 0.35em; vertical-align: middle; margin-left: 0.5rem\">ORG</span>\n",
       "</mark>\n",
       " bangkok \n",
       "<mark class=\"entity\" style=\"background: #feca74; padding: 0.45em 0.6em; margin: 0 0.25em; line-height: 1; border-radius: 0.35em;\">\n",
       "    thailand\n",
       "    <span style=\"font-size: 0.8em; font-weight: bold; line-height: 1; border-radius: 0.35em; vertical-align: middle; margin-left: 0.5rem\">GPE</span>\n",
       "</mark>\n",
       " visiting professor department statistics \n",
       "<mark class=\"entity\" style=\"background: #bfe1d9; padding: 0.45em 0.6em; margin: 0 0.25em; line-height: 1; border-radius: 0.35em;\">\n",
       "    july 2018\n",
       "    <span style=\"font-size: 0.8em; font-weight: bold; line-height: 1; border-radius: 0.35em; vertical-align: middle; margin-left: 0.5rem\">DATE</span>\n",
       "</mark>\n",
       " december 2018 •kochi university technology \n",
       "<mark class=\"entity\" style=\"background: #7aecec; padding: 0.45em 0.6em; margin: 0 0.25em; line-height: 1; border-radius: 0.35em;\">\n",
       "    kochi japan\n",
       "    <span style=\"font-size: 0.8em; font-weight: bold; line-height: 1; border-radius: 0.35em; vertical-align: middle; margin-left: 0.5rem\">ORG</span>\n",
       "</mark>\n",
       " postdoctoral researcher \n",
       "<mark class=\"entity\" style=\"background: #bfe1d9; padding: 0.45em 0.6em; margin: 0 0.25em; line-height: 1; border-radius: 0.35em;\">\n",
       "    april 2015 february 2017\n",
       "    <span style=\"font-size: 0.8em; font-weight: bold; line-height: 1; border-radius: 0.35em; vertical-align: middle; margin-left: 0.5rem\">DATE</span>\n",
       "</mark>\n",
       " education \n",
       "<mark class=\"entity\" style=\"background: #7aecec; padding: 0.45em 0.6em; margin: 0 0.25em; line-height: 1; border-radius: 0.35em;\">\n",
       "    •kochi university\n",
       "    <span style=\"font-size: 0.8em; font-weight: bold; line-height: 1; border-radius: 0.35em; vertical-align: middle; margin-left: 0.5rem\">ORG</span>\n",
       "</mark>\n",
       " technology \n",
       "<mark class=\"entity\" style=\"background: #7aecec; padding: 0.45em 0.6em; margin: 0 0.25em; line-height: 1; border-radius: 0.35em;\">\n",
       "    kochi japan\n",
       "    <span style=\"font-size: 0.8em; font-weight: bold; line-height: 1; border-radius: 0.35em; vertical-align: middle; margin-left: 0.5rem\">ORG</span>\n",
       "</mark>\n",
       " doctor \n",
       "<mark class=\"entity\" style=\"background: #ddd; padding: 0.45em 0.6em; margin: 0 0.25em; line-height: 1; border-radius: 0.35em;\">\n",
       "    engineering\n",
       "    <span style=\"font-size: 0.8em; font-weight: bold; line-height: 1; border-radius: 0.35em; vertical-align: middle; margin-left: 0.5rem\">SKILL|engineering</span>\n",
       "</mark>\n",
       " \n",
       "<mark class=\"entity\" style=\"background: #ddd; padding: 0.45em 0.6em; margin: 0 0.25em; line-height: 1; border-radius: 0.35em;\">\n",
       "    computer science\n",
       "    <span style=\"font-size: 0.8em; font-weight: bold; line-height: 1; border-radius: 0.35em; vertical-align: middle; margin-left: 0.5rem\">SKILL|computer-science</span>\n",
       "</mark>\n",
       " gpa \n",
       "<mark class=\"entity\" style=\"background: #e4e7d2; padding: 0.45em 0.6em; margin: 0 0.25em; line-height: 1; border-radius: 0.35em;\">\n",
       "    4.00\n",
       "    <span style=\"font-size: 0.8em; font-weight: bold; line-height: 1; border-radius: 0.35em; vertical-align: middle; margin-left: 0.5rem\">CARDINAL</span>\n",
       "</mark>\n",
       " \n",
       "<mark class=\"entity\" style=\"background: #bfe1d9; padding: 0.45em 0.6em; margin: 0 0.25em; line-height: 1; border-radius: 0.35em;\">\n",
       "    march 2012 march 2017\n",
       "    <span style=\"font-size: 0.8em; font-weight: bold; line-height: 1; border-radius: 0.35em; vertical-align: middle; margin-left: 0.5rem\">DATE</span>\n",
       "</mark>\n",
       " \n",
       "<mark class=\"entity\" style=\"background: #7aecec; padding: 0.45em 0.6em; margin: 0 0.25em; line-height: 1; border-radius: 0.35em;\">\n",
       "    •asian institute technology\n",
       "    <span style=\"font-size: 0.8em; font-weight: bold; line-height: 1; border-radius: 0.35em; vertical-align: middle; margin-left: 0.5rem\">ORG</span>\n",
       "</mark>\n",
       " pathumthani \n",
       "<mark class=\"entity\" style=\"background: #feca74; padding: 0.45em 0.6em; margin: 0 0.25em; line-height: 1; border-radius: 0.35em;\">\n",
       "    thailand\n",
       "    <span style=\"font-size: 0.8em; font-weight: bold; line-height: 1; border-radius: 0.35em; vertical-align: middle; margin-left: 0.5rem\">GPE</span>\n",
       "</mark>\n",
       " master \n",
       "<mark class=\"entity\" style=\"background: #ddd; padding: 0.45em 0.6em; margin: 0 0.25em; line-height: 1; border-radius: 0.35em;\">\n",
       "    engineering\n",
       "    <span style=\"font-size: 0.8em; font-weight: bold; line-height: 1; border-radius: 0.35em; vertical-align: middle; margin-left: 0.5rem\">SKILL|engineering</span>\n",
       "</mark>\n",
       " \n",
       "<mark class=\"entity\" style=\"background: #ddd; padding: 0.45em 0.6em; margin: 0 0.25em; line-height: 1; border-radius: 0.35em;\">\n",
       "    computer science\n",
       "    <span style=\"font-size: 0.8em; font-weight: bold; line-height: 1; border-radius: 0.35em; vertical-align: middle; margin-left: 0.5rem\">SKILL|computer-science</span>\n",
       "</mark>\n",
       " gpa 3.94 \n",
       "<mark class=\"entity\" style=\"background: #bfe1d9; padding: 0.45em 0.6em; margin: 0 0.25em; line-height: 1; border-radius: 0.35em;\">\n",
       "    august 2009\n",
       "    <span style=\"font-size: 0.8em; font-weight: bold; line-height: 1; border-radius: 0.35em; vertical-align: middle; margin-left: 0.5rem\">DATE</span>\n",
       "</mark>\n",
       " may 2011 •sirindhorn international institute technology \n",
       "<mark class=\"entity\" style=\"background: #7aecec; padding: 0.45em 0.6em; margin: 0 0.25em; line-height: 1; border-radius: 0.35em;\">\n",
       "    pathumthani thailand bachelor science computer\n",
       "    <span style=\"font-size: 0.8em; font-weight: bold; line-height: 1; border-radius: 0.35em; vertical-align: middle; margin-left: 0.5rem\">ORG</span>\n",
       "</mark>\n",
       " science gpa \n",
       "<mark class=\"entity\" style=\"background: #e4e7d2; padding: 0.45em 0.6em; margin: 0 0.25em; line-height: 1; border-radius: 0.35em;\">\n",
       "    3.82\n",
       "    <span style=\"font-size: 0.8em; font-weight: bold; line-height: 1; border-radius: 0.35em; vertical-align: middle; margin-left: 0.5rem\">CARDINAL</span>\n",
       "</mark>\n",
       " \n",
       "<mark class=\"entity\" style=\"background: #e4e7d2; padding: 0.45em 0.6em; margin: 0 0.25em; line-height: 1; border-radius: 0.35em;\">\n",
       "    first\n",
       "    <span style=\"font-size: 0.8em; font-weight: bold; line-height: 1; border-radius: 0.35em; vertical-align: middle; margin-left: 0.5rem\">ORDINAL</span>\n",
       "</mark>\n",
       " class honours \n",
       "<mark class=\"entity\" style=\"background: #bfe1d9; padding: 0.45em 0.6em; margin: 0 0.25em; line-height: 1; border-radius: 0.35em;\">\n",
       "    june 2004 march 2008\n",
       "    <span style=\"font-size: 0.8em; font-weight: bold; line-height: 1; border-radius: 0.35em; vertical-align: middle; margin-left: 0.5rem\">DATE</span>\n",
       "</mark>\n",
       " select \n",
       "<mark class=\"entity\" style=\"background: #e4e7d2; padding: 0.45em 0.6em; margin: 0 0.25em; line-height: 1; border-radius: 0.35em;\">\n",
       "    5\n",
       "    <span style=\"font-size: 0.8em; font-weight: bold; line-height: 1; border-radius: 0.35em; vertical-align: middle; margin-left: 0.5rem\">CARDINAL</span>\n",
       "</mark>\n",
       " publications \n",
       "<mark class=\"entity\" style=\"background: #bfeeb7; padding: 0.45em 0.6em; margin: 0 0.25em; line-height: 1; border-radius: 0.35em;\">\n",
       "    google\n",
       "    <span style=\"font-size: 0.8em; font-weight: bold; line-height: 1; border-radius: 0.35em; vertical-align: middle; margin-left: 0.5rem\">PRODUCT</span>\n",
       "</mark>\n",
       " scholar h - index citation \n",
       "<mark class=\"entity\" style=\"background: #e4e7d2; padding: 0.45em 0.6em; margin: 0 0.25em; line-height: 1; border-radius: 0.35em;\">\n",
       "    11\n",
       "    <span style=\"font-size: 0.8em; font-weight: bold; line-height: 1; border-radius: 0.35em; vertical-align: middle; margin-left: 0.5rem\">CARDINAL</span>\n",
       "</mark>\n",
       " last update \n",
       "<mark class=\"entity\" style=\"background: #bfe1d9; padding: 0.45em 0.6em; margin: 0 0.25em; line-height: 1; border-radius: 0.35em;\">\n",
       "    nov 2 2022\n",
       "    <span style=\"font-size: 0.8em; font-weight: bold; line-height: 1; border-radius: 0.35em; vertical-align: middle; margin-left: 0.5rem\">DATE</span>\n",
       "</mark>\n",
       " 1 niksirat ks . \n",
       "<mark class=\"entity\" style=\"background: #aa9cfc; padding: 0.45em 0.6em; margin: 0 0.25em; line-height: 1; border-radius: 0.35em;\">\n",
       "    silpasuwanchai c. cheng\n",
       "    <span style=\"font-size: 0.8em; font-weight: bold; line-height: 1; border-radius: 0.35em; vertical-align: middle; margin-left: 0.5rem\">PERSON</span>\n",
       "</mark>\n",
       " p. ren x. attention regulation \n",
       "<mark class=\"entity\" style=\"background: #ddd; padding: 0.45em 0.6em; margin: 0 0.25em; line-height: 1; border-radius: 0.35em;\">\n",
       "    framework\n",
       "    <span style=\"font-size: 0.8em; font-weight: bold; line-height: 1; border-radius: 0.35em; vertical-align: middle; margin-left: 0.5rem\">SKILL|framework</span>\n",
       "</mark>\n",
       " \n",
       "<mark class=\"entity\" style=\"background: #ddd; padding: 0.45em 0.6em; margin: 0 0.25em; line-height: 1; border-radius: 0.35em;\">\n",
       "    design\n",
       "    <span style=\"font-size: 0.8em; font-weight: bold; line-height: 1; border-radius: 0.35em; vertical-align: middle; margin-left: 0.5rem\">SKILL|design</span>\n",
       "</mark>\n",
       " self regulated mindfulness technologies acm transactions computer human \n",
       "<mark class=\"entity\" style=\"background: #ddd; padding: 0.45em 0.6em; margin: 0 0.25em; line-height: 1; border-radius: 0.35em;\">\n",
       "    interaction\n",
       "    <span style=\"font-size: 0.8em; font-weight: bold; line-height: 1; border-radius: 0.35em; vertical-align: middle; margin-left: 0.5rem\">SKILL|interaction</span>\n",
       "</mark>\n",
       " \n",
       "<mark class=\"entity\" style=\"background: #e4e7d2; padding: 0.45em 0.6em; margin: 0 0.25em; line-height: 1; border-radius: 0.35em;\">\n",
       "    26 6\n",
       "    <span style=\"font-size: 0.8em; font-weight: bold; line-height: 1; border-radius: 0.35em; vertical-align: middle; margin-left: 0.5rem\">CARDINAL</span>\n",
       "</mark>\n",
       " article 39 \n",
       "<mark class=\"entity\" style=\"background: #bfe1d9; padding: 0.45em 0.6em; margin: 0 0.25em; line-height: 1; border-radius: 0.35em;\">\n",
       "    november 2019 44\n",
       "    <span style=\"font-size: 0.8em; font-weight: bold; line-height: 1; border-radius: 0.35em; vertical-align: middle; margin-left: 0.5rem\">DATE</span>\n",
       "</mark>\n",
       " page doi https://doi.org/10.1145/3359593 if \n",
       "<mark class=\"entity\" style=\"background: #e4e7d2; padding: 0.45em 0.6em; margin: 0 0.25em; line-height: 1; border-radius: 0.35em;\">\n",
       "    2.227\n",
       "    <span style=\"font-size: 0.8em; font-weight: bold; line-height: 1; border-radius: 0.35em; vertical-align: middle; margin-left: 0.5rem\">CARDINAL</span>\n",
       "</mark>\n",
       " 2 niksirat ks . \n",
       "<mark class=\"entity\" style=\"background: #aa9cfc; padding: 0.45em 0.6em; margin: 0 0.25em; line-height: 1; border-radius: 0.35em;\">\n",
       "    silpasuwanchai c. ren x. sex\n",
       "    <span style=\"font-size: 0.8em; font-weight: bold; line-height: 1; border-radius: 0.35em; vertical-align: middle; margin-left: 0.5rem\">PERSON</span>\n",
       "</mark>\n",
       " \n",
       "<mark class=\"entity\" style=\"background: #aa9cfc; padding: 0.45em 0.6em; margin: 0 0.25em; line-height: 1; border-radius: 0.35em;\">\n",
       "    di erence\n",
       "    <span style=\"font-size: 0.8em; font-weight: bold; line-height: 1; border-radius: 0.35em; vertical-align: middle; margin-left: 0.5rem\">PERSON</span>\n",
       "</mark>\n",
       " relationship ow proneness everyday life gray matter dopaminergic system cross - sectional study personality individual di erence \n",
       "<mark class=\"entity\" style=\"background: #bfe1d9; padding: 0.45em 0.6em; margin: 0 0.25em; line-height: 1; border-radius: 0.35em;\">\n",
       "    141 2019\n",
       "    <span style=\"font-size: 0.8em; font-weight: bold; line-height: 1; border-radius: 0.35em; vertical-align: middle; margin-left: 0.5rem\">DATE</span>\n",
       "</mark>\n",
       " if \n",
       "<mark class=\"entity\" style=\"background: #e4e7d2; padding: 0.45em 0.6em; margin: 0 0.25em; line-height: 1; border-radius: 0.35em;\">\n",
       "    2.390 3\n",
       "    <span style=\"font-size: 0.8em; font-weight: bold; line-height: 1; border-radius: 0.35em; vertical-align: middle; margin-left: 0.5rem\">CARDINAL</span>\n",
       "</mark>\n",
       " \n",
       "<mark class=\"entity\" style=\"background: #aa9cfc; padding: 0.45em 0.6em; margin: 0 0.25em; line-height: 1; border-radius: 0.35em;\">\n",
       "    sarcar s. jokinen j. oulasvirta a. wang z.\n",
       "    <span style=\"font-size: 0.8em; font-weight: bold; line-height: 1; border-radius: 0.35em; vertical-align: middle; margin-left: 0.5rem\">PERSON</span>\n",
       "</mark>\n",
       " silpasuwanchai \n",
       "<mark class=\"entity\" style=\"background: #aa9cfc; padding: 0.45em 0.6em; margin: 0 0.25em; line-height: 1; border-radius: 0.35em;\">\n",
       "    c. ren\n",
       "    <span style=\"font-size: 0.8em; font-weight: bold; line-height: 1; border-radius: 0.35em; vertical-align: middle; margin-left: 0.5rem\">PERSON</span>\n",
       "</mark>\n",
       " x. ability base optimization touchscreen interactions ieee pervasive computing \n",
       "<mark class=\"entity\" style=\"background: #bfe1d9; padding: 0.45em 0.6em; margin: 0 0.25em; line-height: 1; border-radius: 0.35em;\">\n",
       "    17(1 2018\n",
       "    <span style=\"font-size: 0.8em; font-weight: bold; line-height: 1; border-radius: 0.35em; vertical-align: middle; margin-left: 0.5rem\">DATE</span>\n",
       "</mark>\n",
       " if \n",
       "<mark class=\"entity\" style=\"background: #e4e7d2; padding: 0.45em 0.6em; margin: 0 0.25em; line-height: 1; border-radius: 0.35em;\">\n",
       "    3.022 4\n",
       "    <span style=\"font-size: 0.8em; font-weight: bold; line-height: 1; border-radius: 0.35em; vertical-align: middle; margin-left: 0.5rem\">CARDINAL</span>\n",
       "</mark>\n",
       " \n",
       "<mark class=\"entity\" style=\"background: #aa9cfc; padding: 0.45em 0.6em; margin: 0 0.25em; line-height: 1; border-radius: 0.35em;\">\n",
       "    jokinen j. sarcar s. oulasvirta\n",
       "    <span style=\"font-size: 0.8em; font-weight: bold; line-height: 1; border-radius: 0.35em; vertical-align: middle; margin-left: 0.5rem\">PERSON</span>\n",
       "</mark>\n",
       " a. silpasuwanchai c. \n",
       "<mark class=\"entity\" style=\"background: #aa9cfc; padding: 0.45em 0.6em; margin: 0 0.25em; line-height: 1; border-radius: 0.35em;\">\n",
       "    wang z. ren x.\n",
       "    <span style=\"font-size: 0.8em; font-weight: bold; line-height: 1; border-radius: 0.35em; vertical-align: middle; margin-left: 0.5rem\">PERSON</span>\n",
       "</mark>\n",
       " modelling learning new keyboard layouts proc acm chi \n",
       "<mark class=\"entity\" style=\"background: #bfe1d9; padding: 0.45em 0.6em; margin: 0 0.25em; line-height: 1; border-radius: 0.35em;\">\n",
       "    2017\n",
       "    <span style=\"font-size: 0.8em; font-weight: bold; line-height: 1; border-radius: 0.35em; vertical-align: middle; margin-left: 0.5rem\">DATE</span>\n",
       "</mark>\n",
       " best paper awards \n",
       "<mark class=\"entity\" style=\"background: #e4e7d2; padding: 0.45em 0.6em; margin: 0 0.25em; line-height: 1; border-radius: 0.35em;\">\n",
       "    1 %\n",
       "    <span style=\"font-size: 0.8em; font-weight: bold; line-height: 1; border-radius: 0.35em; vertical-align: middle; margin-left: 0.5rem\">PERCENT</span>\n",
       "</mark>\n",
       " acceptance rate \n",
       "<mark class=\"entity\" style=\"background: #e4e7d2; padding: 0.45em 0.6em; margin: 0 0.25em; line-height: 1; border-radius: 0.35em;\">\n",
       "    1000/5000=20 %\n",
       "    <span style=\"font-size: 0.8em; font-weight: bold; line-height: 1; border-radius: 0.35em; vertical-align: middle; margin-left: 0.5rem\">PERCENT</span>\n",
       "</mark>\n",
       " \n",
       "<mark class=\"entity\" style=\"background: #e4e7d2; padding: 0.45em 0.6em; margin: 0 0.25em; line-height: 1; border-radius: 0.35em;\">\n",
       "    5\n",
       "    <span style=\"font-size: 0.8em; font-weight: bold; line-height: 1; border-radius: 0.35em; vertical-align: middle; margin-left: 0.5rem\">CARDINAL</span>\n",
       "</mark>\n",
       " niksirat ks . \n",
       "<mark class=\"entity\" style=\"background: #aa9cfc; padding: 0.45em 0.6em; margin: 0 0.25em; line-height: 1; border-radius: 0.35em;\">\n",
       "    silpasuwanchai c. ahmed m.h.h\n",
       "    <span style=\"font-size: 0.8em; font-weight: bold; line-height: 1; border-radius: 0.35em; vertical-align: middle; margin-left: 0.5rem\">PERSON</span>\n",
       "</mark>\n",
       ". \n",
       "<mark class=\"entity\" style=\"background: #aa9cfc; padding: 0.45em 0.6em; margin: 0 0.25em; line-height: 1; border-radius: 0.35em;\">\n",
       "    peng c. ren x.\n",
       "    <span style=\"font-size: 0.8em; font-weight: bold; line-height: 1; border-radius: 0.35em; vertical-align: middle; margin-left: 0.5rem\">PERSON</span>\n",
       "</mark>\n",
       " a \n",
       "<mark class=\"entity\" style=\"background: #ddd; padding: 0.45em 0.6em; margin: 0 0.25em; line-height: 1; border-radius: 0.35em;\">\n",
       "    framework\n",
       "    <span style=\"font-size: 0.8em; font-weight: bold; line-height: 1; border-radius: 0.35em; vertical-align: middle; margin-left: 0.5rem\">SKILL|framework</span>\n",
       "</mark>\n",
       " interactive meditation use attention regulation proc acm chi \n",
       "<mark class=\"entity\" style=\"background: #bfe1d9; padding: 0.45em 0.6em; margin: 0 0.25em; line-height: 1; border-radius: 0.35em;\">\n",
       "    2017\n",
       "    <span style=\"font-size: 0.8em; font-weight: bold; line-height: 1; border-radius: 0.35em; vertical-align: middle; margin-left: 0.5rem\">DATE</span>\n",
       "</mark>\n",
       " acceptance rate \n",
       "<mark class=\"entity\" style=\"background: #e4e7d2; padding: 0.45em 0.6em; margin: 0 0.25em; line-height: 1; border-radius: 0.35em;\">\n",
       "    1000/5000=20 %\n",
       "    <span style=\"font-size: 0.8em; font-weight: bold; line-height: 1; border-radius: 0.35em; vertical-align: middle; margin-left: 0.5rem\">PERCENT</span>\n",
       "</mark>\n",
       "</div></span>"
      ],
      "text/plain": [
       "<IPython.core.display.HTML object>"
      ]
     },
     "metadata": {},
     "output_type": "display_data"
    }
   ],
   "source": [
    "colors = {\"SKILL\": \"linear-gradient(90deg, #aa9cfc, #fc9ce7)\"}\n",
    "options = {\"colors\": colors}\n",
    "\n",
    "displacy.render(doc, style='ent', options=options)"
   ]
  },
  {
   "cell_type": "markdown",
   "metadata": {},
   "source": [
    "## 8. Additional Features"
   ]
  },
  {
   "cell_type": "code",
   "execution_count": 81,
   "metadata": {},
   "outputs": [],
   "source": [
    "from collections import defaultdict\n",
    "\n",
    "def get_info(text, nlp=nlp):\n",
    "    \n",
    "    doc = nlp(text)\n",
    "    \n",
    "    info = defaultdict(list)\n",
    "    \n",
    "    for ent in doc.ents:\n",
    "        info[ent.label_.split(\"|\")[0]].append(ent.text)\n",
    "\n",
    "    for k, v in info.items():\n",
    "        info[k] = list(set(v))\n",
    "            \n",
    "    return info"
   ]
  },
  {
   "cell_type": "code",
   "execution_count": 82,
   "metadata": {},
   "outputs": [],
   "source": [
    "resume_info = get_info(text)"
   ]
  },
  {
   "cell_type": "code",
   "execution_count": 83,
   "metadata": {},
   "outputs": [],
   "source": [
    "def print_info(text, nlp=nlp):\n",
    "    for k, v in get_info(text, nlp).items():\n",
    "        print(f'{k}      \\t{v}')"
   ]
  },
  {
   "cell_type": "code",
   "execution_count": 37,
   "metadata": {},
   "outputs": [
    {
     "name": "stdout",
     "output_type": "stream",
     "text": [
      "PERSON      \t['chaklam silpasuwanchai email', 'glucose ngernail', 'silpasuwanchai c. cheng', 'silpasuwanchai c. ren x. sex', 'di erence', 'sarcar s. jokinen j. oulasvirta a. wang z.', 'c. ren', 'jokinen j. sarcar s. oulasvirta', 'wang z. ren x.', 'silpasuwanchai c. ahmed m.h.h', 'peng c. ren x.']\n",
      "SKILL      \t['mobile', 'python', 'java', 'pytorch', 'springboot', 'deep learning', 'natural language processing', 'software engineering', 'testing', 'data structures', 'algorithms', 'segmentation', 'emotion', 'engineering', 'business', 'engineering', 'computer science', 'engineering', 'computer science', 'framework', 'design', 'interaction', 'framework']\n",
      "QUANTITY      \t['310 - 9191']\n",
      "ORG      \t['siriraj hospital •non', 'mahidol university •emotion', '•asian institute', 'pathumthani thailand', 'bangkok thailand faculty', '•kasetsart university', 'kochi japan', '•kochi university', 'kochi japan', '•asian institute technology', 'pathumthani thailand bachelor science computer']\n",
      "DATE      \t['january 2019', 'march 2017 december', 'july 2018', 'april 2015 february 2017', 'march 2012 march 2017', 'august 2009', 'june 2004 march 2008', 'nov 2 2022', 'november 2019 44', '141 2019', '17(1 2018', '2017', '2017']\n",
      "GPE      \t['thailand', 'thailand']\n",
      "CARDINAL      \t['4.00', '3.82', '5', '11', '26 6', '2.227', '2.390 3', '3.022 4', '5']\n",
      "ORDINAL      \t['first']\n",
      "PRODUCT      \t['google']\n",
      "PERCENT      \t['1 %', '1000/5000=20 %', '1000/5000=20 %']\n"
     ]
    }
   ],
   "source": [
    "print_info(text)"
   ]
  },
  {
   "cell_type": "code",
   "execution_count": 78,
   "metadata": {},
   "outputs": [
    {
     "data": {
      "text/plain": [
       "defaultdict(list, {'ORG': ['Bachelor of Civil Law']})"
      ]
     },
     "execution_count": 78,
     "metadata": {},
     "output_type": "execute_result"
    }
   ],
   "source": [
    "test = 'Bachelor of Civil Law'\n",
    "get_info(test)"
   ]
  },
  {
   "cell_type": "markdown",
   "metadata": {},
   "source": [
    "### Extract Education Degree and Certificates"
   ]
  },
  {
   "cell_type": "markdown",
   "metadata": {},
   "source": [
    "The data was retrieved from [github gist](https://gist.github.com/cblanquera/21c925d1312e9a4de3c269be134f3a6c) in json format and transform to jsonl file with *converter.ipynb*"
   ]
  },
  {
   "cell_type": "code",
   "execution_count": 39,
   "metadata": {},
   "outputs": [
    {
     "data": {
      "text/plain": [
       "<spacy.pipeline.entityruler.EntityRuler at 0x21a03f14e50>"
      ]
     },
     "execution_count": 39,
     "metadata": {},
     "output_type": "execute_result"
    }
   ],
   "source": [
    "ruler2 = nlp.add_pipe(\"entity_ruler\", \"cert_ent\")\n",
    "ruler2.from_disk('data/certs.jsonl')\n",
    "ruler3 = nlp.add_pipe(\"entity_ruler\", \"degree_ent\")\n",
    "ruler3.from_disk('data/degrees.jsonl')"
   ]
  },
  {
   "cell_type": "code",
   "execution_count": 40,
   "metadata": {},
   "outputs": [
    {
     "data": {
      "text/plain": [
       "defaultdict(list, {'ORG': ['Bachelor of Civil Law']})"
      ]
     },
     "execution_count": 40,
     "metadata": {},
     "output_type": "execute_result"
    }
   ],
   "source": [
    "test = 'Bachelor of Civil Law'\n",
    "get_info(test)"
   ]
  },
  {
   "cell_type": "markdown",
   "metadata": {},
   "source": [
    "The degree is caught in ner component before reaching degree_cert component."
   ]
  },
  {
   "cell_type": "code",
   "execution_count": 41,
   "metadata": {},
   "outputs": [
    {
     "data": {
      "text/plain": [
       "<spacy.pipeline.entityruler.EntityRuler at 0x21a0cbb00d0>"
      ]
     },
     "execution_count": 41,
     "metadata": {},
     "output_type": "execute_result"
    }
   ],
   "source": [
    "del nlp\n",
    "nlp = spacy.load('en_core_web_md')\n",
    "\n",
    "ruler1 = nlp.add_pipe(\"entity_ruler\", \"degree_ent\", before='ner')\n",
    "ruler1.from_disk('data/degrees.jsonl')\n",
    "ruler2 = nlp.add_pipe(\"entity_ruler\", \"cert_ent\", before='ner')\n",
    "ruler2.from_disk('data/certs.jsonl')\n",
    "ruler3 = nlp.add_pipe(\"entity_ruler\", \"skill_ent\", before='ner')\n",
    "ruler3.from_disk('data/skills.jsonl')\n",
    "\n",
    "# I add degree before skill because 'Computer Science' is also included in skills.jsonl\n",
    "# To avoid skill_ent split a str like 'Bachelor of Science in Computer Science' which is supposed to be a degree as a whole\n",
    "# cert_ent is placed before skill_ent for the same reason"
   ]
  },
  {
   "cell_type": "code",
   "execution_count": 42,
   "metadata": {},
   "outputs": [],
   "source": [
    "pickle.dump(nlp, open('./parser/main_parser.pkl', 'wb'))"
   ]
  },
  {
   "cell_type": "code",
   "execution_count": 43,
   "metadata": {},
   "outputs": [
    {
     "data": {
      "text/plain": [
       "['tok2vec',\n",
       " 'tagger',\n",
       " 'parser',\n",
       " 'attribute_ruler',\n",
       " 'lemmatizer',\n",
       " 'degree_ent',\n",
       " 'cert_ent',\n",
       " 'skill_ent',\n",
       " 'ner']"
      ]
     },
     "execution_count": 43,
     "metadata": {},
     "output_type": "execute_result"
    }
   ],
   "source": [
    "nlp.pipe_names"
   ]
  },
  {
   "cell_type": "code",
   "execution_count": 85,
   "metadata": {},
   "outputs": [
    {
     "data": {
      "text/plain": [
       "defaultdict(list, {'DEGREE': ['Bachelor of Science in Computer Science']})"
      ]
     },
     "execution_count": 85,
     "metadata": {},
     "output_type": "execute_result"
    }
   ],
   "source": [
    "test = 'Bachelor of Science in Computer Science'\n",
    "get_info(test, nlp=nlp)"
   ]
  },
  {
   "cell_type": "code",
   "execution_count": 45,
   "metadata": {},
   "outputs": [
    {
     "name": "stdout",
     "output_type": "stream",
     "text": [
      "PERSON      \t['Chaklam Silpasuwanchai', 'Niksirat', 'Cheng', 'Ren', 'Niksirat', 'Ren', 'Individual Di', 'Z.', 'Ren', 'Jokinen', 'Z.', 'Ren', 'CHI', 'Niksirat', 'Ahmed', 'M.H.H.', 'Peng', 'C.', 'Ren', 'CHI']\n",
      "SKILL      \t['Mobile', 'Python', 'Java', 'PyTorch', 'SpringBoot', 'Deep Learning', 'Natural Language Processing', 'Software Engineering', 'Testing', 'Algorithms', 'segmentation', 'emotion', 'Engineering', 'Business', 'Google', 'Framework', 'Interaction', 'Framework']\n",
      "ORG      \t['Machine/', 'Data\\nStructures', 'SCG', 'Siriraj Hospital', '•Non-Invasive Blood Glucose Measuring', 'Mahidol University', 'Robotic Premium', 'Institute of Technology Pathumthani', 'School of', 'International University Bangkok', 'Thailand\\nFaculty', 'Faculty of', '•Kasetsart University', 'Department of Statistics', 'University of Technology Kochi', 'Education\\n•Kochi University of Technology Kochi', 'GPA', '•Asian Institute of Technology Pathumthani', 'GPA', '•Sirindhorn International Institute of Technology Pathumthani', 'GPA', 'Computer-Human', 'S., Jokinen', 'J., Oulasvirta, A.', 'Wang', 'J., Sarcar', 'S., Oulasvirta, A.', 'Wang']\n",
      "GPE      \t['Thailand', 'Bangkok', 'Thailand', 'Japan', 'Japan', 'Thailand', 'Thailand', 'KS.', 'Silpasuwanchai', 'KS.', 'Silpasuwanchai', 'Silpasuwanchai', 'Silpasuwanchai', 'KS.', 'Silpasuwanchai']\n",
      "DATE      \t['January 2019', 'March 2017 -', 'July 2018 - December 2018', 'April 2015 - February 2017', 'March 2012', 'March 2017', 'August 2009', 'May 2011', 'June 2004', 'March 2008', 'Nov 2, 2022', '6', 'November 2019', 'https://doi.org/10.1145/3359593', '2019', '2018', '2017', '2017']\n",
      "DEGREE      \t['Doctor of Engineering in Computer Science', 'Master of Engineering in Computer Science', 'Bachelor of Science in Computer Science']\n",
      "CARDINAL      \t['4.00', '3.94', '3.82', '5', '11', '1', '26', '44', '2.227', '2', '141', '2.390', '3', '3.022', '4', '5']\n",
      "NORP      \t['C.', 'C.', 'C.', 'C.', 'C.']\n",
      "LAW      \t['Article 39']\n",
      "PRODUCT      \t['Layouts']\n",
      "PERCENT      \t['1%', '1000/5000=20%', '1000/5000=20%']\n"
     ]
    }
   ],
   "source": [
    "reader = PdfReader(\"./data/chaky_resume.pdf\")\n",
    "page = reader.pages[0]\n",
    "text = page.extract_text()\n",
    "print_info(text, nlp=nlp)"
   ]
  },
  {
   "cell_type": "code",
   "execution_count": 46,
   "metadata": {},
   "outputs": [
    {
     "data": {
      "text/plain": [
       "['Doctor of Engineering in Computer Science',\n",
       " 'Master of Engineering in Computer Science',\n",
       " 'Bachelor of Science in Computer Science']"
      ]
     },
     "execution_count": 46,
     "metadata": {},
     "output_type": "execute_result"
    }
   ],
   "source": [
    "get_info(text, nlp=nlp)['DEGREE']"
   ]
  },
  {
   "cell_type": "code",
   "execution_count": 47,
   "metadata": {},
   "outputs": [
    {
     "data": {
      "text/plain": [
       "[]"
      ]
     },
     "execution_count": 47,
     "metadata": {},
     "output_type": "execute_result"
    }
   ],
   "source": [
    "get_info(text, nlp=nlp)['CERT']"
   ]
  },
  {
   "cell_type": "markdown",
   "metadata": {},
   "source": [
    "### Extract Work Experience"
   ]
  },
  {
   "cell_type": "code",
   "execution_count": 48,
   "metadata": {},
   "outputs": [
    {
     "data": {
      "text/plain": [
       "['Machine/',\n",
       " 'Data\\nStructures',\n",
       " 'SCG',\n",
       " 'Siriraj Hospital',\n",
       " '•Non-Invasive Blood Glucose Measuring',\n",
       " 'Mahidol University',\n",
       " 'Robotic Premium',\n",
       " 'Institute of Technology Pathumthani',\n",
       " 'School of',\n",
       " 'International University Bangkok',\n",
       " 'Thailand\\nFaculty',\n",
       " 'Faculty of',\n",
       " '•Kasetsart University',\n",
       " 'Department of Statistics',\n",
       " 'University of Technology Kochi',\n",
       " 'Education\\n•Kochi University of Technology Kochi',\n",
       " 'GPA',\n",
       " '•Asian Institute of Technology Pathumthani',\n",
       " 'GPA',\n",
       " '•Sirindhorn International Institute of Technology Pathumthani',\n",
       " 'GPA',\n",
       " 'Computer-Human',\n",
       " 'S., Jokinen',\n",
       " 'J., Oulasvirta, A.',\n",
       " 'Wang',\n",
       " 'J., Sarcar',\n",
       " 'S., Oulasvirta, A.',\n",
       " 'Wang']"
      ]
     },
     "execution_count": 48,
     "metadata": {},
     "output_type": "execute_result"
    }
   ],
   "source": [
    "get_info(text, nlp=nlp)['ORG']"
   ]
  },
  {
   "cell_type": "code",
   "execution_count": 49,
   "metadata": {},
   "outputs": [],
   "source": [
    "# keywords for filtering workplace\n",
    "# can't detect abriviated name like SCG\n",
    "\n",
    "keywords = ['bureau', 'company', 'subsidiary', 'society', 'firm', 'association', 'school', \n",
    "            'trust', 'division', 'group', 'council', 'bank', 'team', 'center', 'organization', \n",
    "            'network', 'hospital', 'corporation', 'agency', 'commission', 'university', 'clinic', \n",
    "            'academy', 'office', 'institution', 'college', 'committee', 'institute', \n",
    "            'partnership', 'union', 'facility', 'laboratory', 'coalition', 'branch', 'service', \n",
    "            'enterprise', 'foundation', 'consortium', 'practice', 'department', 'studio', 'lab', \n",
    "            'board']"
   ]
  },
  {
   "cell_type": "code",
   "execution_count": 50,
   "metadata": {},
   "outputs": [
    {
     "name": "stdout",
     "output_type": "stream",
     "text": [
      "['division', 'union', 'studio', 'lab', 'facility', 'enterprise', 'laboratory', 'society', 'clinic', 'board', 'academy', 'commission', 'center', 'partnership', 'practice', 'university', 'consortium', 'agency', 'college', 'school', 'bank', 'company', 'organization', 'hospital', 'group', 'firm', 'committee', 'association', 'department', 'subsidiary', 'institute', 'trust', 'service', 'foundation', 'corporation', 'institution', 'office', 'coalition', 'team', 'bureau', 'network', 'council', 'branch']\n"
     ]
    }
   ],
   "source": [
    "print(list(set(keywords)))"
   ]
  },
  {
   "cell_type": "code",
   "execution_count": 51,
   "metadata": {},
   "outputs": [
    {
     "data": {
      "text/plain": [
       "['Siriraj Hospital',\n",
       " 'Mahidol University',\n",
       " 'Institute of Technology Pathumthani',\n",
       " 'School of',\n",
       " 'International University Bangkok',\n",
       " '•Kasetsart University',\n",
       " 'Department of Statistics',\n",
       " 'University of Technology Kochi',\n",
       " 'Education\\n•Kochi University of Technology Kochi',\n",
       " '•Asian Institute of Technology Pathumthani',\n",
       " '•Sirindhorn International Institute of Technology Pathumthani']"
      ]
     },
     "execution_count": 51,
     "metadata": {},
     "output_type": "execute_result"
    }
   ],
   "source": [
    "filtered = [i for i in get_info(text, nlp=nlp)['ORG'] if any(keyword in i.lower() for keyword in keywords)]\n",
    "filtered"
   ]
  },
  {
   "cell_type": "code",
   "execution_count": 52,
   "metadata": {},
   "outputs": [],
   "source": [
    "reader = PdfReader(\"./data/data_Ex/ACCOUNTANT/12802330.pdf\")\n",
    "page = reader.pages[0]\n",
    "text = page.extract_text()"
   ]
  },
  {
   "cell_type": "code",
   "execution_count": 53,
   "metadata": {},
   "outputs": [
    {
     "name": "stdout",
     "output_type": "stream",
     "text": [
      "GPE      \t['Peachtree', 'Essbase']\n",
      "SKILL      \t['Accounting', 'Crystal', 'MS Office', 'Accounting', 'Database', 'Trend Analysis', 'accounting', 'business process', 'accounting', 'accounting', 'support', 'accounting', 'accounting', 'testing', 'accounting', 'support', 'support', 'support', 'business', 'testing']\n",
      "ORG      \t['Financial Reporting', 'FAR', 'WAWF', 'Great Plains', 'Hyperion Workspace, Planning, Enterprise', 'Develop', 'State', 'Federal and State']\n",
      "CARDINAL      \t['90']\n",
      "PRODUCT      \t['Excel']\n",
      "DATE      \t['November 2011', 'daily', 'daily', 'monthly', 'September 2006', 'October 2011']\n"
     ]
    }
   ],
   "source": [
    "print_info(text, nlp=nlp)"
   ]
  },
  {
   "cell_type": "markdown",
   "metadata": {},
   "source": [
    "### Extract Contact Informations"
   ]
  },
  {
   "cell_type": "markdown",
   "metadata": {},
   "source": [
    "#### Phone Number"
   ]
  },
  {
   "cell_type": "code",
   "execution_count": 54,
   "metadata": {},
   "outputs": [],
   "source": [
    "import spacy\n",
    "\n",
    "phone_number_extractor = spacy.blank('en')"
   ]
  },
  {
   "cell_type": "code",
   "execution_count": 55,
   "metadata": {},
   "outputs": [],
   "source": [
    "ruler = phone_number_extractor.add_pipe('entity_ruler', 'phone_number_ent')"
   ]
  },
  {
   "cell_type": "code",
   "execution_count": 56,
   "metadata": {},
   "outputs": [],
   "source": [
    "patterns = [\n",
    "    {\"label\": \"PHONE NUMBER\", \"pattern\": [{\"TEXT\": {\"REGEX\": r\"\\+\\d{11}\"}}]},                               # 66123456789\n",
    "    {\"label\": \"PHONE NUMBER\", \"pattern\": [{\"TEXT\": {\"REGEX\": r\"\\+\\d{2}\"}}, \n",
    "                                        {\"ORTH\": \"-\", \"OP\": \"?\"}, {\"TEXT\": {\"REGEX\": r\"\\d{2}\"}},\n",
    "                                        {\"ORTH\": \"-\", \"OP\": \"?\"}, {\"TEXT\": {\"REGEX\": r\"\\d{3}\"}},\n",
    "                                        {\"ORTH\": \"-\", \"OP\": \"?\"}, {\"TEXT\": {\"REGEX\": r\"\\d{4}\"}}]},          # +66-12-345-6789\n",
    "    {\"label\": \"PHONE NUMBER\", \"pattern\": [{\"ORTH\": \"(\", \"OP\": \"?\"}, {\"TEXT\": {\"REGEX\": r\"\\+\\d{2}\"}}, {\"ORTH\": \")\", \"OP\": \"?\"},\n",
    "                                        {\"TEXT\": {\"REGEX\": r\"\\d{2}\"}},\n",
    "                                        {\"ORTH\": \"-\", \"OP\": \"?\"}, {\"TEXT\": {\"REGEX\": r\"\\d{3}\"}},\n",
    "                                        {\"ORTH\": \"-\", \"OP\": \"?\"}, {\"TEXT\": {\"REGEX\": r\"\\d{4}\"}}]},          # (+66)12 345 6789\n",
    "    {\"label\": \"PHONE NUMBER\", \"pattern\": [{\"ORTH\": \"(\", \"OP\": \"?\"}, {\"TEXT\": {\"REGEX\": r\"\\+\\d{2}\"}}, {\"ORTH\": \")\", \"OP\": \"?\"},\n",
    "                                        {\"ORTH\": \"-\", \"OP\": \"?\"}, {\"TEXT\": {\"REGEX\": r\"\\d{2}\"}},\n",
    "                                        {\"ORTH\": \"-\", \"OP\": \"?\"}, {\"TEXT\": {\"REGEX\": r\"\\d{3}\"}},\n",
    "                                        {\"ORTH\": \"-\", \"OP\": \"?\"}, {\"TEXT\": {\"REGEX\": r\"\\d{4}\"}}]},          # (+66) 12 345 6789\n",
    "    {\"label\": \"PHONE NUMBER\", \"pattern\": [{\"TEXT\": {\"REGEX\": r\"\\d{10}\"}}]},                                 # 0123456789\n",
    "    {\"label\": \"PHONE NUMBER\", \"pattern\": [{\"TEXT\": {\"REGEX\": r\"\\d{3}\"}},\n",
    "                                        {\"ORTH\": \"-\", \"OP\": \"?\"}, {\"TEXT\": {\"REGEX\": r\"\\d{3}\"}},\n",
    "                                        {\"ORTH\": \"-\", \"OP\": \"?\"}, {\"TEXT\": {\"REGEX\": r\"\\d{4}\"}}]},          # 012-345-6789\n",
    "    {\"label\": \"PHONE NUMBER\", \"pattern\": [{\"ORTH\": \"(\", \"OP\": \"?\"}, {\"TEXT\": {\"REGEX\": r\"\\d{2}\"}}, {\"ORTH\": \")\", \"OP\": \"?\"},\n",
    "                                        {\"ORTH\": \"-\", \"OP\": \"?\"}, {\"TEXT\": {\"REGEX\": r\"\\d{2}\"}},\n",
    "                                        {\"ORTH\": \"-\", \"OP\": \"?\"}, {\"TEXT\": {\"REGEX\": r\"\\d{3}\"}},\n",
    "                                        {\"ORTH\": \"-\", \"OP\": \"?\"}, {\"TEXT\": {\"REGEX\": r\"\\d{4}\"}}]},          # (66) 12 345 6789\n",
    "    {\"label\": \"PHONE NUMBER\", \"pattern\": [{\"ORTH\": \"(\", \"OP\": \"?\"}, {\"TEXT\": {\"REGEX\": r\"\\d{2}\"}}, {\"ORTH\": \")\", \"OP\": \"?\"},\n",
    "                                        {\"ORTH\": \"-\", \"OP\": \"?\"}, {\"TEXT\": {\"REGEX\": r\"\\d{3}\"}},\n",
    "                                        {\"ORTH\": \"-\", \"OP\": \"?\"}, {\"TEXT\": {\"REGEX\": r\"\\d{4}\"}}]}           # (012) 345 6789\n",
    "]\n",
    "# I hate regex\n",
    "\n",
    "ruler.add_patterns(patterns)"
   ]
  },
  {
   "cell_type": "code",
   "execution_count": 57,
   "metadata": {},
   "outputs": [
    {
     "data": {
      "text/plain": [
       "\"LEAD ACCOUNTANT\\nHighlights\\nQuickBooks, Peachtree, In-house Accounting Systems and Financial Reporting, MAS 90, FAR, WAWF, Great Plains, Integration\\nManager, FRx reporting.\\nHyperion Workspace, Planning, Enterprise, Essbase, Schedules and Reports, Crystal Reports, MS Office with strong Excel skill\\nFinancial Accounting\\nDatabase Management\\nBudget Administration\\nPerformance Reporting\\nTax Preparation and Compliance\\nForecasting/Trend Analysis\\nStrategic Planning\\nCash-Flow Analysis\\nVariance Analysis\\nSarbanes-Oxley Research and Compliance\\nExperience\\nLead Accountant\\n \\nNovember 2011\\n \\nto \\nCurrent\\n \\nCompany Name\\n \\nï¼\\u200b \\nCity\\n \\n, \\nState\\nExperience in various areas including, but not limited to: operating budgets, financial analysis/planning, financial statements and reporting,\\naccounting policies and procedure, cash flow, taxes, auditing, and business process improvements.\\nManage various areas in financial accounting, budgeting and financial analysis.\\nExecute qualitative and quantitative analysis techniques to minimize risks and liabilities.\\nDevelop and implement system processes to achieve financial discipline and improve the overall efficiency of the organization.\\nProvide strong analytical skills, good relationship management and negotiation skills in liaising with various large corporate entities, financial\\ninstitutions and various regulatory authorities.\\nMonitor and manage daily processes for multiple complex revenues streams.\\nReview contracts for new pricing schedules while researching and implementing new accounts into the accounting systems.\\nProvide subject matter expertise in analyzing revenue trends and apply corrective measures to risk findings.\\nMaintain ongoing communication with key stakeholders to include accounts, operations managers and new markets support teams for\\nemerging accounting issues and recommend corrective actions.\\nTest internal controls for compliance in preventing fraud and improving accounting processes while meeting full compliance with GAAP,\\nFederal and State law.\\nStay abreast of relevant new market events and new product in the pipeline.\\nTrack daily activity of the firm's new contracts and provide recommendations on financial related issues.\\nMaintain the accuracy and completeness of all deferred revenues and enforce timely revenue recognition.\\nLead and develop methods and implement revenue test models for complex billing structures.\\nPerform trends analysis on revenues using quantitative methodology and forecast future contingencies.\\nMaintain the new revenue backlog inventories and periodically testing for appropriateness against new pricing conditions as well as\\naccounting policy determinations.\\nIdentify risky accounts in default and communicate to account managers for corrective actions.\\nPrepare various ad hoc reports upon request by senior management requiring knowledge of general ledger and supporting sub-ledger\\ndetails.\\nLead, support, and assist the external financial audit process.\\nPrepare and maintain various incentive payment schedules for the prescriber program.\\nLead and support the billing automation effort while streamlining the monthly billing process for more prompt, accurate and timely billing of\\nour customers.\\nImprove cash flows by meeting targeted projections.\\nSenior Accountant\\n \\nSeptember 2006\\n \\nto \\nOctober 2011\\n \\nCompany Name\\n \\nï¼\\u200b \\nCity\\n \\n, \\nState\\nCompiled and analyzed financial data used in the preparation of corporate financial statements.\\nProvided support to business operations through analysis of key performance indicators and trends.\\nMaintained and supervised the various systems of internal controls over financial reporting while assessing and remediating deficiencies\\ndiscovered through periodic testing making easier to reconcile accounts.\\nCollaborated, compiled, and prepared budgets and forecast operational activities.\\nMaintained general ledger and sub ledger accounts by posting and documenting financial journal entries.\\nManaged and maintained corporate closing schedules for periodic financial reporting.\\nMonitored and maintained fixed assets and depreciation schedules on ongoing basis.\\nFiled property taxes with county and ensured compliance of corporate sales taxes with Federal and State.\\nLead team in the preparation and coordination of the financial audit process.\\nReconciled bank statements and procured recommendations for all bank irregularities issues with key stake holders.\\nStaff Accountant\\n \""
      ]
     },
     "execution_count": 57,
     "metadata": {},
     "output_type": "execute_result"
    }
   ],
   "source": [
    "text"
   ]
  },
  {
   "cell_type": "code",
   "execution_count": 58,
   "metadata": {},
   "outputs": [
    {
     "data": {
      "text/plain": [
       "['phone_number_ent']"
      ]
     },
     "execution_count": 58,
     "metadata": {},
     "output_type": "execute_result"
    }
   ],
   "source": [
    "phone_number_extractor.pipe_names"
   ]
  },
  {
   "cell_type": "code",
   "execution_count": 59,
   "metadata": {},
   "outputs": [],
   "source": [
    "test = '+66-12-345-6789'"
   ]
  },
  {
   "cell_type": "code",
   "execution_count": 60,
   "metadata": {},
   "outputs": [
    {
     "data": {
      "text/plain": [
       "defaultdict(list, {'PHONE NUMBER': ['+66-12-345-6789']})"
      ]
     },
     "execution_count": 60,
     "metadata": {},
     "output_type": "execute_result"
    }
   ],
   "source": [
    "get_info(test, nlp=phone_number_extractor)"
   ]
  },
  {
   "cell_type": "code",
   "execution_count": 61,
   "metadata": {},
   "outputs": [
    {
     "data": {
      "text/plain": [
       "defaultdict(list, {'PHONE NUMBER': ['+66 12 345 6789']})"
      ]
     },
     "execution_count": 61,
     "metadata": {},
     "output_type": "execute_result"
    }
   ],
   "source": [
    "test = '+66 12 345 6789'\n",
    "get_info(test, nlp=phone_number_extractor)"
   ]
  },
  {
   "cell_type": "code",
   "execution_count": 62,
   "metadata": {},
   "outputs": [],
   "source": [
    "test = '(012) 345 6789'"
   ]
  },
  {
   "cell_type": "code",
   "execution_count": 63,
   "metadata": {},
   "outputs": [
    {
     "data": {
      "text/plain": [
       "defaultdict(list, {'PHONE NUMBER': ['(012) 345 6789']})"
      ]
     },
     "execution_count": 63,
     "metadata": {},
     "output_type": "execute_result"
    }
   ],
   "source": [
    "get_info(test, nlp=phone_number_extractor)"
   ]
  },
  {
   "cell_type": "code",
   "execution_count": 64,
   "metadata": {},
   "outputs": [],
   "source": [
    "reader = PdfReader(\"./data/chaky_resume.pdf\")\n",
    "page = reader.pages[0]\n",
    "text = page.extract_text()"
   ]
  },
  {
   "cell_type": "code",
   "execution_count": 65,
   "metadata": {},
   "outputs": [
    {
     "data": {
      "text/plain": [
       "'am.com Mobile : +66-63-310-9191\\nhttp://g'"
      ]
     },
     "execution_count": 65,
     "metadata": {},
     "output_type": "execute_result"
    }
   ],
   "source": [
    "text[60:100]"
   ]
  },
  {
   "cell_type": "code",
   "execution_count": 66,
   "metadata": {},
   "outputs": [
    {
     "data": {
      "text/plain": [
       "['+66-63-310-9191']"
      ]
     },
     "execution_count": 66,
     "metadata": {},
     "output_type": "execute_result"
    }
   ],
   "source": [
    "get_info(text, nlp=phone_number_extractor)['PHONE NUMBER']\n",
    "# finally"
   ]
  },
  {
   "cell_type": "code",
   "execution_count": 67,
   "metadata": {},
   "outputs": [],
   "source": [
    "pickle.dump(phone_number_extractor, open('./parser/phone_number_parser.pkl', 'wb'))"
   ]
  },
  {
   "cell_type": "markdown",
   "metadata": {},
   "source": [
    "#### Email"
   ]
  },
  {
   "cell_type": "code",
   "execution_count": 68,
   "metadata": {},
   "outputs": [],
   "source": [
    "from spacy.matcher import Matcher"
   ]
  },
  {
   "cell_type": "code",
   "execution_count": 69,
   "metadata": {},
   "outputs": [],
   "source": [
    "email_extractor = spacy.load(\"en_core_web_md\")"
   ]
  },
  {
   "cell_type": "code",
   "execution_count": 70,
   "metadata": {},
   "outputs": [],
   "source": [
    "matcher = Matcher(email_extractor.vocab)"
   ]
  },
  {
   "cell_type": "code",
   "execution_count": 71,
   "metadata": {},
   "outputs": [],
   "source": [
    "pattern = [{\"LIKE_EMAIL\": True}]\n",
    "matcher.add(\"EMAIL\", [pattern])\n",
    "\n",
    "doc = email_extractor(\"'Chaklam Silpasuwanchai Email : chaklam@ait.asia\\nhttp://chaklam.com Mobile \")\n",
    "matches = matcher(doc)"
   ]
  },
  {
   "cell_type": "code",
   "execution_count": 72,
   "metadata": {},
   "outputs": [
    {
     "name": "stdout",
     "output_type": "stream",
     "text": [
      "chaklam@ait.asia\n"
     ]
    }
   ],
   "source": [
    "for _, start, end in matches:\n",
    "    span = doc[start:end]\n",
    "    print(span.text)"
   ]
  },
  {
   "cell_type": "code",
   "execution_count": 73,
   "metadata": {},
   "outputs": [],
   "source": [
    "email_extractor = spacy.load(\"en_core_web_md\")\n",
    "\n",
    "def extract_email(text):\n",
    "    emails = []\n",
    "    matcher = Matcher(email_extractor.vocab)\n",
    "    pattern = [{\"LIKE_EMAIL\": True}]\n",
    "    matcher.add(\"EMAIL\", [pattern])\n",
    "\n",
    "    doc = email_extractor(text)\n",
    "    matches = matcher(doc)\n",
    "    \n",
    "    for _, start, end in matches:\n",
    "        span = doc[start:end]\n",
    "        emails.append(span)\n",
    "    return emails"
   ]
  },
  {
   "cell_type": "code",
   "execution_count": 74,
   "metadata": {},
   "outputs": [
    {
     "data": {
      "text/plain": [
       "'Chaklam Silpasuwanchai Email : chaklam@ait.asia\\nhttp://chaklam.com Mobile : +66-63-310-9191\\nhttp://g'"
      ]
     },
     "execution_count": 74,
     "metadata": {},
     "output_type": "execute_result"
    }
   ],
   "source": [
    "text[:100]"
   ]
  },
  {
   "cell_type": "code",
   "execution_count": 75,
   "metadata": {},
   "outputs": [
    {
     "data": {
      "text/plain": [
       "[chaklam@ait.asia]"
      ]
     },
     "execution_count": 75,
     "metadata": {},
     "output_type": "execute_result"
    }
   ],
   "source": [
    "extract_email(text)"
   ]
  },
  {
   "cell_type": "code",
   "execution_count": 76,
   "metadata": {},
   "outputs": [],
   "source": [
    "pickle.dump(email_extractor, open('./parser/en_core_web_md.pkl', 'wb'))"
   ]
  }
 ],
 "metadata": {
  "kernelspec": {
   "display_name": "dsai",
   "language": "python",
   "name": "python3"
  },
  "language_info": {
   "codemirror_mode": {
    "name": "ipython",
    "version": 3
   },
   "file_extension": ".py",
   "mimetype": "text/x-python",
   "name": "python",
   "nbconvert_exporter": "python",
   "pygments_lexer": "ipython3",
   "version": "3.11.5"
  },
  "orig_nbformat": 4,
  "vscode": {
   "interpreter": {
    "hash": "0f2c79af21be9d001248940c049b6176cf8bfb45cabf7aa85848f5cea0f590f6"
   }
  }
 },
 "nbformat": 4,
 "nbformat_minor": 2
}
